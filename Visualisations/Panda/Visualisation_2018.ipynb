{
 "cells": [
  {
   "cell_type": "code",
   "execution_count": 192,
   "metadata": {
    "collapsed": true
   },
   "outputs": [],
   "source": [
    "import numpy as np\n",
    "import pandas as pd\n",
    "import matplotlib.pyplot as plt\n",
    "import seaborn as sns\n",
    "% matplotlib inline\n"
   ]
  },
  {
   "cell_type": "code",
   "execution_count": 193,
   "metadata": {
    "collapsed": true
   },
   "outputs": [],
   "source": [
    "from plotly import __version__\n",
    "from plotly.offline import download_plotlyjs, init_notebook_mode, plot, iplot"
   ]
  },
  {
   "cell_type": "code",
   "execution_count": 194,
   "metadata": {},
   "outputs": [
    {
     "name": "stdout",
     "output_type": "stream",
     "text": [
      "2.4.1\n"
     ]
    }
   ],
   "source": [
    "print __version__"
   ]
  },
  {
   "cell_type": "code",
   "execution_count": 195,
   "metadata": {
    "collapsed": true
   },
   "outputs": [],
   "source": [
    "import cufflinks as cf"
   ]
  },
  {
   "cell_type": "code",
   "execution_count": 196,
   "metadata": {},
   "outputs": [
    {
     "data": {
      "text/html": [
       "<script>requirejs.config({paths: { 'plotly': ['https://cdn.plot.ly/plotly-latest.min']},});if(!window.Plotly) {{require(['plotly'],function(plotly) {window.Plotly=plotly;});}}</script>"
      ],
      "text/vnd.plotly.v1+html": [
       "<script>requirejs.config({paths: { 'plotly': ['https://cdn.plot.ly/plotly-latest.min']},});if(!window.Plotly) {{require(['plotly'],function(plotly) {window.Plotly=plotly;});}}</script>"
      ]
     },
     "metadata": {},
     "output_type": "display_data"
    }
   ],
   "source": [
    "init_notebook_mode(connected=True)"
   ]
  },
  {
   "cell_type": "code",
   "execution_count": 197,
   "metadata": {},
   "outputs": [
    {
     "name": "stderr",
     "output_type": "stream",
     "text": [
      "IOPub data rate exceeded.\n",
      "The notebook server will temporarily stop sending output\n",
      "to the client in order to avoid crashing it.\n",
      "To change this limit, set the config variable\n",
      "`--NotebookApp.iopub_data_rate_limit`.\n"
     ]
    }
   ],
   "source": [
    "cf.go_offline()"
   ]
  },
  {
   "cell_type": "code",
   "execution_count": 198,
   "metadata": {
    "collapsed": true
   },
   "outputs": [],
   "source": [
    "path2018 = \"../../Cleaned-Data/2018-Passouts/2018_merged.xlsx\"\n",
    "path2017 = \"../../Cleaned-Data/2017-Passouts/2017_merged.xlsx\"\n",
    "path2016 = \"../../Cleaned-Data/2016-Passouts/Sem-6_2016_Passout_cleaned.xlsx\""
   ]
  },
  {
   "cell_type": "code",
   "execution_count": 199,
   "metadata": {
    "collapsed": true
   },
   "outputs": [],
   "source": [
    "df2018 = pd.read_excel(path2018)\n",
    "df2017 = pd.read_excel(path2017)\n",
    "df2016 = pd.read_excel(path2016)"
   ]
  },
  {
   "cell_type": "markdown",
   "metadata": {},
   "source": [
    "### SPCC Theory Marks Distribution"
   ]
  },
  {
   "cell_type": "code",
   "execution_count": 200,
   "metadata": {},
   "outputs": [
    {
     "data": {
      "application/vnd.plotly.v1+json": {
       "data": [
        {
         "histfunc": "count",
         "histnorm": "",
         "marker": {
          "color": "rgba(255, 153, 51, 1.0)",
          "line": {
           "color": "#4D5663",
           "width": 1.3
          }
         },
         "name": "SPCC-TH",
         "nbinsx": 25,
         "opacity": 0.8,
         "orientation": "v",
         "type": "histogram",
         "x": [
          33,
          38,
          57,
          56,
          64,
          64,
          48,
          60,
          58,
          51,
          63,
          45,
          58,
          54,
          52,
          32,
          67,
          40,
          62,
          53,
          64,
          61,
          26,
          34,
          43,
          65,
          45,
          62,
          51,
          51,
          53,
          52,
          41,
          60,
          37,
          63,
          56,
          46,
          55,
          46,
          54,
          55,
          55,
          42,
          51,
          48,
          63,
          58,
          55,
          63,
          56,
          50,
          55,
          50,
          32,
          53,
          51,
          48,
          60,
          61,
          55,
          55,
          43,
          60,
          54,
          44,
          61,
          50,
          48,
          60,
          55,
          47,
          63,
          47,
          32,
          34,
          54,
          48,
          52,
          41,
          43,
          46,
          58,
          41,
          61,
          47,
          50,
          49,
          57,
          32,
          57,
          47,
          57,
          49,
          53,
          56,
          37,
          32,
          50,
          44,
          64,
          55,
          42,
          51,
          53,
          37,
          58,
          40,
          27,
          55,
          49,
          46,
          32,
          55,
          50,
          26,
          50,
          32,
          39,
          33,
          63,
          55,
          43,
          48,
          47,
          61,
          55,
          58,
          46,
          0,
          11,
          39,
          0,
          41
         ]
        }
       ],
       "layout": {
        "barmode": "overlay",
        "legend": {
         "bgcolor": "#F5F6F9",
         "font": {
          "color": "#4D5663"
         }
        },
        "paper_bgcolor": "#F5F6F9",
        "plot_bgcolor": "#F5F6F9",
        "titlefont": {
         "color": "#4D5663"
        },
        "xaxis1": {
         "gridcolor": "#E1E5ED",
         "showgrid": true,
         "tickfont": {
          "color": "#4D5663"
         },
         "title": "",
         "titlefont": {
          "color": "#4D5663"
         },
         "zerolinecolor": "#E1E5ED"
        },
        "yaxis1": {
         "gridcolor": "#E1E5ED",
         "showgrid": true,
         "tickfont": {
          "color": "#4D5663"
         },
         "title": "",
         "titlefont": {
          "color": "#4D5663"
         },
         "zerolinecolor": "#E1E5ED"
        }
       }
      },
      "text/html": [
       "<div id=\"2d74d0bb-9bbd-4e78-bd7a-2cc4bb85a9ca\" style=\"height: 525px; width: 100%;\" class=\"plotly-graph-div\"></div><script type=\"text/javascript\">require([\"plotly\"], function(Plotly) { window.PLOTLYENV=window.PLOTLYENV || {};window.PLOTLYENV.BASE_URL=\"https://plot.ly\";Plotly.newPlot(\"2d74d0bb-9bbd-4e78-bd7a-2cc4bb85a9ca\", [{\"opacity\": 0.8, \"name\": \"SPCC-TH\", \"histnorm\": \"\", \"nbinsx\": 25, \"histfunc\": \"count\", \"marker\": {\"color\": \"rgba(255, 153, 51, 1.0)\", \"line\": {\"color\": \"#4D5663\", \"width\": 1.3}}, \"x\": [33, 38, 57, 56, 64, 64, 48, 60, 58, 51, 63, 45, 58, 54, 52, 32, 67, 40, 62, 53, 64, 61, 26, 34, 43, 65, 45, 62, 51, 51, 53, 52, 41, 60, 37, 63, 56, 46, 55, 46, 54, 55, 55, 42, 51, 48, 63, 58, 55, 63, 56, 50, 55, 50, 32, 53, 51, 48, 60, 61, 55, 55, 43, 60, 54, 44, 61, 50, 48, 60, 55, 47, 63, 47, 32, 34, 54, 48, 52, 41, 43, 46, 58, 41, 61, 47, 50, 49, 57, 32, 57, 47, 57, 49, 53, 56, 37, 32, 50, 44, 64, 55, 42, 51, 53, 37, 58, 40, 27, 55, 49, 46, 32, 55, 50, 26, 50, 32, 39, 33, 63, 55, 43, 48, 47, 61, 55, 58, 46, 0, 11, 39, 0, 41], \"type\": \"histogram\", \"orientation\": \"v\"}], {\"yaxis1\": {\"tickfont\": {\"color\": \"#4D5663\"}, \"title\": \"\", \"showgrid\": true, \"zerolinecolor\": \"#E1E5ED\", \"gridcolor\": \"#E1E5ED\", \"titlefont\": {\"color\": \"#4D5663\"}}, \"paper_bgcolor\": \"#F5F6F9\", \"plot_bgcolor\": \"#F5F6F9\", \"xaxis1\": {\"tickfont\": {\"color\": \"#4D5663\"}, \"title\": \"\", \"showgrid\": true, \"zerolinecolor\": \"#E1E5ED\", \"gridcolor\": \"#E1E5ED\", \"titlefont\": {\"color\": \"#4D5663\"}}, \"barmode\": \"overlay\", \"titlefont\": {\"color\": \"#4D5663\"}, \"legend\": {\"bgcolor\": \"#F5F6F9\", \"font\": {\"color\": \"#4D5663\"}}}, {\"linkText\": \"Export to plot.ly\", \"showLink\": true})});</script>"
      ],
      "text/vnd.plotly.v1+html": [
       "<div id=\"2d74d0bb-9bbd-4e78-bd7a-2cc4bb85a9ca\" style=\"height: 525px; width: 100%;\" class=\"plotly-graph-div\"></div><script type=\"text/javascript\">require([\"plotly\"], function(Plotly) { window.PLOTLYENV=window.PLOTLYENV || {};window.PLOTLYENV.BASE_URL=\"https://plot.ly\";Plotly.newPlot(\"2d74d0bb-9bbd-4e78-bd7a-2cc4bb85a9ca\", [{\"opacity\": 0.8, \"name\": \"SPCC-TH\", \"histnorm\": \"\", \"nbinsx\": 25, \"histfunc\": \"count\", \"marker\": {\"color\": \"rgba(255, 153, 51, 1.0)\", \"line\": {\"color\": \"#4D5663\", \"width\": 1.3}}, \"x\": [33, 38, 57, 56, 64, 64, 48, 60, 58, 51, 63, 45, 58, 54, 52, 32, 67, 40, 62, 53, 64, 61, 26, 34, 43, 65, 45, 62, 51, 51, 53, 52, 41, 60, 37, 63, 56, 46, 55, 46, 54, 55, 55, 42, 51, 48, 63, 58, 55, 63, 56, 50, 55, 50, 32, 53, 51, 48, 60, 61, 55, 55, 43, 60, 54, 44, 61, 50, 48, 60, 55, 47, 63, 47, 32, 34, 54, 48, 52, 41, 43, 46, 58, 41, 61, 47, 50, 49, 57, 32, 57, 47, 57, 49, 53, 56, 37, 32, 50, 44, 64, 55, 42, 51, 53, 37, 58, 40, 27, 55, 49, 46, 32, 55, 50, 26, 50, 32, 39, 33, 63, 55, 43, 48, 47, 61, 55, 58, 46, 0, 11, 39, 0, 41], \"type\": \"histogram\", \"orientation\": \"v\"}], {\"yaxis1\": {\"tickfont\": {\"color\": \"#4D5663\"}, \"title\": \"\", \"showgrid\": true, \"zerolinecolor\": \"#E1E5ED\", \"gridcolor\": \"#E1E5ED\", \"titlefont\": {\"color\": \"#4D5663\"}}, \"paper_bgcolor\": \"#F5F6F9\", \"plot_bgcolor\": \"#F5F6F9\", \"xaxis1\": {\"tickfont\": {\"color\": \"#4D5663\"}, \"title\": \"\", \"showgrid\": true, \"zerolinecolor\": \"#E1E5ED\", \"gridcolor\": \"#E1E5ED\", \"titlefont\": {\"color\": \"#4D5663\"}}, \"barmode\": \"overlay\", \"titlefont\": {\"color\": \"#4D5663\"}, \"legend\": {\"bgcolor\": \"#F5F6F9\", \"font\": {\"color\": \"#4D5663\"}}}, {\"linkText\": \"Export to plot.ly\", \"showLink\": true})});</script>"
      ]
     },
     "metadata": {},
     "output_type": "display_data"
    }
   ],
   "source": [
    "df2018['SPCC-TH'].iplot(kind='hist',bins=25)"
   ]
  },
  {
   "cell_type": "code",
   "execution_count": 201,
   "metadata": {
    "scrolled": false
   },
   "outputs": [
    {
     "data": {
      "application/vnd.plotly.v1+json": {
       "data": [
        {
         "boxpoints": false,
         "line": {
          "width": 1.3
         },
         "marker": {
          "color": "rgba(255, 153, 51, 1.0)"
         },
         "name": "SPCC-TH",
         "type": "box",
         "y": [
          33,
          38,
          57,
          56,
          64,
          64,
          48,
          60,
          58,
          51,
          63,
          45,
          58,
          54,
          52,
          32,
          67,
          40,
          62,
          53,
          64,
          61,
          26,
          34,
          43,
          65,
          45,
          62,
          51,
          51,
          53,
          52,
          41,
          60,
          37,
          63,
          56,
          46,
          55,
          46,
          54,
          55,
          55,
          42,
          51,
          48,
          63,
          58,
          55,
          63,
          56,
          50,
          55,
          50,
          32,
          53,
          51,
          48,
          60,
          61,
          55,
          55,
          43,
          60,
          54,
          44,
          61,
          50,
          48,
          60,
          55,
          47,
          63,
          47,
          32,
          34,
          54,
          48,
          52,
          41,
          43,
          46,
          58,
          41,
          61,
          47,
          50,
          49,
          57,
          32,
          57,
          47,
          57,
          49,
          53,
          56,
          37,
          32,
          50,
          44,
          64,
          55,
          42,
          51,
          53,
          37,
          58,
          40,
          27,
          55,
          49,
          46,
          32,
          55,
          50,
          26,
          50,
          32,
          39,
          33,
          63,
          55,
          43,
          48,
          47,
          61,
          55,
          58,
          46,
          0,
          11,
          39,
          0,
          41
         ]
        }
       ],
       "layout": {
        "legend": {
         "bgcolor": "#F5F6F9",
         "font": {
          "color": "#4D5663"
         }
        },
        "paper_bgcolor": "#F5F6F9",
        "plot_bgcolor": "#F5F6F9",
        "titlefont": {
         "color": "#4D5663"
        },
        "xaxis1": {
         "gridcolor": "#E1E5ED",
         "showgrid": true,
         "tickfont": {
          "color": "#4D5663"
         },
         "title": "",
         "titlefont": {
          "color": "#4D5663"
         },
         "zerolinecolor": "#E1E5ED"
        },
        "yaxis1": {
         "gridcolor": "#E1E5ED",
         "showgrid": true,
         "tickfont": {
          "color": "#4D5663"
         },
         "title": "",
         "titlefont": {
          "color": "#4D5663"
         },
         "zerolinecolor": "#E1E5ED"
        }
       }
      },
      "text/html": [
       "<div id=\"bfec7372-7a3d-4879-9c6c-9ab10df6b5cf\" style=\"height: 525px; width: 100%;\" class=\"plotly-graph-div\"></div><script type=\"text/javascript\">require([\"plotly\"], function(Plotly) { window.PLOTLYENV=window.PLOTLYENV || {};window.PLOTLYENV.BASE_URL=\"https://plot.ly\";Plotly.newPlot(\"bfec7372-7a3d-4879-9c6c-9ab10df6b5cf\", [{\"name\": \"SPCC-TH\", \"marker\": {\"color\": \"rgba(255, 153, 51, 1.0)\"}, \"y\": [33, 38, 57, 56, 64, 64, 48, 60, 58, 51, 63, 45, 58, 54, 52, 32, 67, 40, 62, 53, 64, 61, 26, 34, 43, 65, 45, 62, 51, 51, 53, 52, 41, 60, 37, 63, 56, 46, 55, 46, 54, 55, 55, 42, 51, 48, 63, 58, 55, 63, 56, 50, 55, 50, 32, 53, 51, 48, 60, 61, 55, 55, 43, 60, 54, 44, 61, 50, 48, 60, 55, 47, 63, 47, 32, 34, 54, 48, 52, 41, 43, 46, 58, 41, 61, 47, 50, 49, 57, 32, 57, 47, 57, 49, 53, 56, 37, 32, 50, 44, 64, 55, 42, 51, 53, 37, 58, 40, 27, 55, 49, 46, 32, 55, 50, 26, 50, 32, 39, 33, 63, 55, 43, 48, 47, 61, 55, 58, 46, 0, 11, 39, 0, 41], \"line\": {\"width\": 1.3}, \"type\": \"box\", \"boxpoints\": false}], {\"paper_bgcolor\": \"#F5F6F9\", \"plot_bgcolor\": \"#F5F6F9\", \"xaxis1\": {\"tickfont\": {\"color\": \"#4D5663\"}, \"title\": \"\", \"showgrid\": true, \"zerolinecolor\": \"#E1E5ED\", \"gridcolor\": \"#E1E5ED\", \"titlefont\": {\"color\": \"#4D5663\"}}, \"yaxis1\": {\"tickfont\": {\"color\": \"#4D5663\"}, \"title\": \"\", \"showgrid\": true, \"zerolinecolor\": \"#E1E5ED\", \"gridcolor\": \"#E1E5ED\", \"titlefont\": {\"color\": \"#4D5663\"}}, \"titlefont\": {\"color\": \"#4D5663\"}, \"legend\": {\"bgcolor\": \"#F5F6F9\", \"font\": {\"color\": \"#4D5663\"}}}, {\"linkText\": \"Export to plot.ly\", \"showLink\": true})});</script>"
      ],
      "text/vnd.plotly.v1+html": [
       "<div id=\"bfec7372-7a3d-4879-9c6c-9ab10df6b5cf\" style=\"height: 525px; width: 100%;\" class=\"plotly-graph-div\"></div><script type=\"text/javascript\">require([\"plotly\"], function(Plotly) { window.PLOTLYENV=window.PLOTLYENV || {};window.PLOTLYENV.BASE_URL=\"https://plot.ly\";Plotly.newPlot(\"bfec7372-7a3d-4879-9c6c-9ab10df6b5cf\", [{\"name\": \"SPCC-TH\", \"marker\": {\"color\": \"rgba(255, 153, 51, 1.0)\"}, \"y\": [33, 38, 57, 56, 64, 64, 48, 60, 58, 51, 63, 45, 58, 54, 52, 32, 67, 40, 62, 53, 64, 61, 26, 34, 43, 65, 45, 62, 51, 51, 53, 52, 41, 60, 37, 63, 56, 46, 55, 46, 54, 55, 55, 42, 51, 48, 63, 58, 55, 63, 56, 50, 55, 50, 32, 53, 51, 48, 60, 61, 55, 55, 43, 60, 54, 44, 61, 50, 48, 60, 55, 47, 63, 47, 32, 34, 54, 48, 52, 41, 43, 46, 58, 41, 61, 47, 50, 49, 57, 32, 57, 47, 57, 49, 53, 56, 37, 32, 50, 44, 64, 55, 42, 51, 53, 37, 58, 40, 27, 55, 49, 46, 32, 55, 50, 26, 50, 32, 39, 33, 63, 55, 43, 48, 47, 61, 55, 58, 46, 0, 11, 39, 0, 41], \"line\": {\"width\": 1.3}, \"type\": \"box\", \"boxpoints\": false}], {\"paper_bgcolor\": \"#F5F6F9\", \"plot_bgcolor\": \"#F5F6F9\", \"xaxis1\": {\"tickfont\": {\"color\": \"#4D5663\"}, \"title\": \"\", \"showgrid\": true, \"zerolinecolor\": \"#E1E5ED\", \"gridcolor\": \"#E1E5ED\", \"titlefont\": {\"color\": \"#4D5663\"}}, \"yaxis1\": {\"tickfont\": {\"color\": \"#4D5663\"}, \"title\": \"\", \"showgrid\": true, \"zerolinecolor\": \"#E1E5ED\", \"gridcolor\": \"#E1E5ED\", \"titlefont\": {\"color\": \"#4D5663\"}}, \"titlefont\": {\"color\": \"#4D5663\"}, \"legend\": {\"bgcolor\": \"#F5F6F9\", \"font\": {\"color\": \"#4D5663\"}}}, {\"linkText\": \"Export to plot.ly\", \"showLink\": true})});</script>"
      ]
     },
     "metadata": {},
     "output_type": "display_data"
    }
   ],
   "source": [
    "df2018['SPCC-TH'].iplot(kind='box')"
   ]
  },
  {
   "cell_type": "markdown",
   "metadata": {},
   "source": [
    "### Histogram for Sem 6 - 2018 Passouts"
   ]
  },
  {
   "cell_type": "code",
   "execution_count": 202,
   "metadata": {
    "scrolled": true
   },
   "outputs": [
    {
     "data": {
      "application/vnd.plotly.v1+json": {
       "data": [
        {
         "histfunc": "count",
         "histnorm": "",
         "marker": {
          "color": "rgba(255, 153, 51, 1.0)",
          "line": {
           "color": "#4D5663",
           "width": 1.3
          }
         },
         "name": "SPCC-TH",
         "nbinsx": "25",
         "opacity": 0.8,
         "orientation": "v",
         "type": "histogram",
         "x": [
          33,
          38,
          57,
          56,
          64,
          64,
          48,
          60,
          58,
          51,
          63,
          45,
          58,
          54,
          52,
          32,
          67,
          40,
          62,
          53,
          64,
          61,
          26,
          34,
          43,
          65,
          45,
          62,
          51,
          51,
          53,
          52,
          41,
          60,
          37,
          63,
          56,
          46,
          55,
          46,
          54,
          55,
          55,
          42,
          51,
          48,
          63,
          58,
          55,
          63,
          56,
          50,
          55,
          50,
          32,
          53,
          51,
          48,
          60,
          61,
          55,
          55,
          43,
          60,
          54,
          44,
          61,
          50,
          48,
          60,
          55,
          47,
          63,
          47,
          32,
          34,
          54,
          48,
          52,
          41,
          43,
          46,
          58,
          41,
          61,
          47,
          50,
          49,
          57,
          32,
          57,
          47,
          57,
          49,
          53,
          56,
          37,
          32,
          50,
          44,
          64,
          55,
          42,
          51,
          53,
          37,
          58,
          40,
          27,
          55,
          49,
          46,
          32,
          55,
          50,
          26,
          50,
          32,
          39,
          33,
          63,
          55,
          43,
          48,
          47,
          61,
          55,
          58,
          46,
          0,
          11,
          39,
          0,
          41
         ]
        },
        {
         "histfunc": "count",
         "histnorm": "",
         "marker": {
          "color": "rgba(55, 128, 191, 1.0)",
          "line": {
           "color": "#4D5663",
           "width": 1.3
          }
         },
         "name": "SE-TH",
         "nbinsx": "25",
         "opacity": 0.8,
         "orientation": "v",
         "type": "histogram",
         "x": [
          33,
          41,
          53,
          50,
          67,
          52,
          58,
          49,
          52,
          56,
          58,
          34,
          43,
          49,
          43,
          46,
          65,
          43,
          60,
          59,
          65,
          64,
          38,
          44,
          50,
          62,
          39,
          54,
          55,
          49,
          50,
          45,
          43,
          51,
          59,
          60,
          54,
          46,
          54,
          43,
          60,
          51,
          64,
          50,
          52,
          52,
          70,
          66,
          63,
          53,
          63,
          58,
          35,
          54,
          57,
          55,
          53,
          49,
          54,
          67,
          64,
          61,
          46,
          49,
          59,
          56,
          68,
          47,
          49,
          48,
          52,
          47,
          57,
          57,
          42,
          41,
          57,
          46,
          62,
          54,
          56,
          53,
          66,
          46,
          61,
          51,
          56,
          52,
          68,
          44,
          66,
          50,
          56,
          55,
          42,
          61,
          44,
          33,
          66,
          60,
          68,
          64,
          62,
          53,
          53,
          52,
          68,
          40,
          34,
          63,
          67,
          53,
          50,
          56,
          59,
          63,
          70,
          37,
          44,
          39,
          64,
          50,
          41,
          63,
          57,
          64,
          66,
          63,
          51,
          32,
          40,
          62,
          0,
          43
         ]
        },
        {
         "histfunc": "count",
         "histnorm": "",
         "marker": {
          "color": "rgba(50, 171, 96, 1.0)",
          "line": {
           "color": "#4D5663",
           "width": 1.3
          }
         },
         "name": "MCC-TH",
         "nbinsx": "25",
         "opacity": 0.8,
         "orientation": "v",
         "type": "histogram",
         "x": [
          37,
          37,
          55,
          56,
          58,
          61,
          50,
          56,
          50,
          45,
          62,
          37,
          53,
          53,
          52,
          44,
          62,
          45,
          59,
          49,
          62,
          61,
          48,
          46,
          53,
          56,
          4,
          59,
          52,
          51,
          47,
          53,
          44,
          53,
          57,
          57,
          49,
          51,
          47,
          47,
          56,
          55,
          57,
          49,
          41,
          47,
          57,
          60,
          50,
          54,
          60,
          51,
          47,
          57,
          46,
          49,
          51,
          49,
          49,
          59,
          50,
          55,
          48,
          54,
          52,
          45,
          60,
          52,
          55,
          58,
          52,
          50,
          63,
          55,
          39,
          37,
          54,
          48,
          56,
          53,
          51,
          44,
          54,
          53,
          50,
          41,
          49,
          47,
          54,
          39,
          61,
          52,
          54,
          54,
          49,
          56,
          44,
          38,
          57,
          51,
          58,
          51,
          47,
          56,
          55,
          43,
          58,
          45,
          34,
          47,
          49,
          39,
          41,
          55,
          53,
          48,
          58,
          48,
          37,
          32,
          58,
          50,
          49,
          52,
          38,
          59,
          61,
          59,
          51,
          32,
          0,
          47,
          0,
          49
         ]
        }
       ],
       "layout": {
        "barmode": "overlay",
        "legend": {
         "bgcolor": "#F5F6F9",
         "font": {
          "color": "#4D5663"
         }
        },
        "paper_bgcolor": "#F5F6F9",
        "plot_bgcolor": "#F5F6F9",
        "titlefont": {
         "color": "#4D5663"
        },
        "xaxis1": {
         "gridcolor": "#E1E5ED",
         "showgrid": true,
         "tickfont": {
          "color": "#4D5663"
         },
         "title": "",
         "titlefont": {
          "color": "#4D5663"
         },
         "zerolinecolor": "#E1E5ED"
        },
        "yaxis1": {
         "gridcolor": "#E1E5ED",
         "showgrid": true,
         "tickfont": {
          "color": "#4D5663"
         },
         "title": "",
         "titlefont": {
          "color": "#4D5663"
         },
         "zerolinecolor": "#E1E5ED"
        }
       }
      },
      "text/html": [
       "<div id=\"2cb72beb-134c-47ff-a4d1-fc7b4c8c228c\" style=\"height: 525px; width: 100%;\" class=\"plotly-graph-div\"></div><script type=\"text/javascript\">require([\"plotly\"], function(Plotly) { window.PLOTLYENV=window.PLOTLYENV || {};window.PLOTLYENV.BASE_URL=\"https://plot.ly\";Plotly.newPlot(\"2cb72beb-134c-47ff-a4d1-fc7b4c8c228c\", [{\"opacity\": 0.8, \"name\": \"SPCC-TH\", \"histnorm\": \"\", \"nbinsx\": \"25\", \"histfunc\": \"count\", \"marker\": {\"color\": \"rgba(255, 153, 51, 1.0)\", \"line\": {\"color\": \"#4D5663\", \"width\": 1.3}}, \"x\": [33, 38, 57, 56, 64, 64, 48, 60, 58, 51, 63, 45, 58, 54, 52, 32, 67, 40, 62, 53, 64, 61, 26, 34, 43, 65, 45, 62, 51, 51, 53, 52, 41, 60, 37, 63, 56, 46, 55, 46, 54, 55, 55, 42, 51, 48, 63, 58, 55, 63, 56, 50, 55, 50, 32, 53, 51, 48, 60, 61, 55, 55, 43, 60, 54, 44, 61, 50, 48, 60, 55, 47, 63, 47, 32, 34, 54, 48, 52, 41, 43, 46, 58, 41, 61, 47, 50, 49, 57, 32, 57, 47, 57, 49, 53, 56, 37, 32, 50, 44, 64, 55, 42, 51, 53, 37, 58, 40, 27, 55, 49, 46, 32, 55, 50, 26, 50, 32, 39, 33, 63, 55, 43, 48, 47, 61, 55, 58, 46, 0, 11, 39, 0, 41], \"type\": \"histogram\", \"orientation\": \"v\"}, {\"opacity\": 0.8, \"name\": \"SE-TH\", \"histnorm\": \"\", \"nbinsx\": \"25\", \"histfunc\": \"count\", \"marker\": {\"color\": \"rgba(55, 128, 191, 1.0)\", \"line\": {\"color\": \"#4D5663\", \"width\": 1.3}}, \"x\": [33, 41, 53, 50, 67, 52, 58, 49, 52, 56, 58, 34, 43, 49, 43, 46, 65, 43, 60, 59, 65, 64, 38, 44, 50, 62, 39, 54, 55, 49, 50, 45, 43, 51, 59, 60, 54, 46, 54, 43, 60, 51, 64, 50, 52, 52, 70, 66, 63, 53, 63, 58, 35, 54, 57, 55, 53, 49, 54, 67, 64, 61, 46, 49, 59, 56, 68, 47, 49, 48, 52, 47, 57, 57, 42, 41, 57, 46, 62, 54, 56, 53, 66, 46, 61, 51, 56, 52, 68, 44, 66, 50, 56, 55, 42, 61, 44, 33, 66, 60, 68, 64, 62, 53, 53, 52, 68, 40, 34, 63, 67, 53, 50, 56, 59, 63, 70, 37, 44, 39, 64, 50, 41, 63, 57, 64, 66, 63, 51, 32, 40, 62, 0, 43], \"type\": \"histogram\", \"orientation\": \"v\"}, {\"opacity\": 0.8, \"name\": \"MCC-TH\", \"histnorm\": \"\", \"nbinsx\": \"25\", \"histfunc\": \"count\", \"marker\": {\"color\": \"rgba(50, 171, 96, 1.0)\", \"line\": {\"color\": \"#4D5663\", \"width\": 1.3}}, \"x\": [37, 37, 55, 56, 58, 61, 50, 56, 50, 45, 62, 37, 53, 53, 52, 44, 62, 45, 59, 49, 62, 61, 48, 46, 53, 56, 4, 59, 52, 51, 47, 53, 44, 53, 57, 57, 49, 51, 47, 47, 56, 55, 57, 49, 41, 47, 57, 60, 50, 54, 60, 51, 47, 57, 46, 49, 51, 49, 49, 59, 50, 55, 48, 54, 52, 45, 60, 52, 55, 58, 52, 50, 63, 55, 39, 37, 54, 48, 56, 53, 51, 44, 54, 53, 50, 41, 49, 47, 54, 39, 61, 52, 54, 54, 49, 56, 44, 38, 57, 51, 58, 51, 47, 56, 55, 43, 58, 45, 34, 47, 49, 39, 41, 55, 53, 48, 58, 48, 37, 32, 58, 50, 49, 52, 38, 59, 61, 59, 51, 32, 0, 47, 0, 49], \"type\": \"histogram\", \"orientation\": \"v\"}], {\"yaxis1\": {\"tickfont\": {\"color\": \"#4D5663\"}, \"title\": \"\", \"showgrid\": true, \"zerolinecolor\": \"#E1E5ED\", \"gridcolor\": \"#E1E5ED\", \"titlefont\": {\"color\": \"#4D5663\"}}, \"paper_bgcolor\": \"#F5F6F9\", \"plot_bgcolor\": \"#F5F6F9\", \"xaxis1\": {\"tickfont\": {\"color\": \"#4D5663\"}, \"title\": \"\", \"showgrid\": true, \"zerolinecolor\": \"#E1E5ED\", \"gridcolor\": \"#E1E5ED\", \"titlefont\": {\"color\": \"#4D5663\"}}, \"barmode\": \"overlay\", \"titlefont\": {\"color\": \"#4D5663\"}, \"legend\": {\"bgcolor\": \"#F5F6F9\", \"font\": {\"color\": \"#4D5663\"}}}, {\"linkText\": \"Export to plot.ly\", \"showLink\": true})});</script>"
      ],
      "text/vnd.plotly.v1+html": [
       "<div id=\"2cb72beb-134c-47ff-a4d1-fc7b4c8c228c\" style=\"height: 525px; width: 100%;\" class=\"plotly-graph-div\"></div><script type=\"text/javascript\">require([\"plotly\"], function(Plotly) { window.PLOTLYENV=window.PLOTLYENV || {};window.PLOTLYENV.BASE_URL=\"https://plot.ly\";Plotly.newPlot(\"2cb72beb-134c-47ff-a4d1-fc7b4c8c228c\", [{\"opacity\": 0.8, \"name\": \"SPCC-TH\", \"histnorm\": \"\", \"nbinsx\": \"25\", \"histfunc\": \"count\", \"marker\": {\"color\": \"rgba(255, 153, 51, 1.0)\", \"line\": {\"color\": \"#4D5663\", \"width\": 1.3}}, \"x\": [33, 38, 57, 56, 64, 64, 48, 60, 58, 51, 63, 45, 58, 54, 52, 32, 67, 40, 62, 53, 64, 61, 26, 34, 43, 65, 45, 62, 51, 51, 53, 52, 41, 60, 37, 63, 56, 46, 55, 46, 54, 55, 55, 42, 51, 48, 63, 58, 55, 63, 56, 50, 55, 50, 32, 53, 51, 48, 60, 61, 55, 55, 43, 60, 54, 44, 61, 50, 48, 60, 55, 47, 63, 47, 32, 34, 54, 48, 52, 41, 43, 46, 58, 41, 61, 47, 50, 49, 57, 32, 57, 47, 57, 49, 53, 56, 37, 32, 50, 44, 64, 55, 42, 51, 53, 37, 58, 40, 27, 55, 49, 46, 32, 55, 50, 26, 50, 32, 39, 33, 63, 55, 43, 48, 47, 61, 55, 58, 46, 0, 11, 39, 0, 41], \"type\": \"histogram\", \"orientation\": \"v\"}, {\"opacity\": 0.8, \"name\": \"SE-TH\", \"histnorm\": \"\", \"nbinsx\": \"25\", \"histfunc\": \"count\", \"marker\": {\"color\": \"rgba(55, 128, 191, 1.0)\", \"line\": {\"color\": \"#4D5663\", \"width\": 1.3}}, \"x\": [33, 41, 53, 50, 67, 52, 58, 49, 52, 56, 58, 34, 43, 49, 43, 46, 65, 43, 60, 59, 65, 64, 38, 44, 50, 62, 39, 54, 55, 49, 50, 45, 43, 51, 59, 60, 54, 46, 54, 43, 60, 51, 64, 50, 52, 52, 70, 66, 63, 53, 63, 58, 35, 54, 57, 55, 53, 49, 54, 67, 64, 61, 46, 49, 59, 56, 68, 47, 49, 48, 52, 47, 57, 57, 42, 41, 57, 46, 62, 54, 56, 53, 66, 46, 61, 51, 56, 52, 68, 44, 66, 50, 56, 55, 42, 61, 44, 33, 66, 60, 68, 64, 62, 53, 53, 52, 68, 40, 34, 63, 67, 53, 50, 56, 59, 63, 70, 37, 44, 39, 64, 50, 41, 63, 57, 64, 66, 63, 51, 32, 40, 62, 0, 43], \"type\": \"histogram\", \"orientation\": \"v\"}, {\"opacity\": 0.8, \"name\": \"MCC-TH\", \"histnorm\": \"\", \"nbinsx\": \"25\", \"histfunc\": \"count\", \"marker\": {\"color\": \"rgba(50, 171, 96, 1.0)\", \"line\": {\"color\": \"#4D5663\", \"width\": 1.3}}, \"x\": [37, 37, 55, 56, 58, 61, 50, 56, 50, 45, 62, 37, 53, 53, 52, 44, 62, 45, 59, 49, 62, 61, 48, 46, 53, 56, 4, 59, 52, 51, 47, 53, 44, 53, 57, 57, 49, 51, 47, 47, 56, 55, 57, 49, 41, 47, 57, 60, 50, 54, 60, 51, 47, 57, 46, 49, 51, 49, 49, 59, 50, 55, 48, 54, 52, 45, 60, 52, 55, 58, 52, 50, 63, 55, 39, 37, 54, 48, 56, 53, 51, 44, 54, 53, 50, 41, 49, 47, 54, 39, 61, 52, 54, 54, 49, 56, 44, 38, 57, 51, 58, 51, 47, 56, 55, 43, 58, 45, 34, 47, 49, 39, 41, 55, 53, 48, 58, 48, 37, 32, 58, 50, 49, 52, 38, 59, 61, 59, 51, 32, 0, 47, 0, 49], \"type\": \"histogram\", \"orientation\": \"v\"}], {\"yaxis1\": {\"tickfont\": {\"color\": \"#4D5663\"}, \"title\": \"\", \"showgrid\": true, \"zerolinecolor\": \"#E1E5ED\", \"gridcolor\": \"#E1E5ED\", \"titlefont\": {\"color\": \"#4D5663\"}}, \"paper_bgcolor\": \"#F5F6F9\", \"plot_bgcolor\": \"#F5F6F9\", \"xaxis1\": {\"tickfont\": {\"color\": \"#4D5663\"}, \"title\": \"\", \"showgrid\": true, \"zerolinecolor\": \"#E1E5ED\", \"gridcolor\": \"#E1E5ED\", \"titlefont\": {\"color\": \"#4D5663\"}}, \"barmode\": \"overlay\", \"titlefont\": {\"color\": \"#4D5663\"}, \"legend\": {\"bgcolor\": \"#F5F6F9\", \"font\": {\"color\": \"#4D5663\"}}}, {\"linkText\": \"Export to plot.ly\", \"showLink\": true})});</script>"
      ]
     },
     "metadata": {},
     "output_type": "display_data"
    }
   ],
   "source": [
    "df2018[['SPCC-TH','SE-TH','MCC-TH']].iplot(kind='hist',bins='25')"
   ]
  },
  {
   "cell_type": "code",
   "execution_count": 203,
   "metadata": {},
   "outputs": [
    {
     "name": "stdout",
     "output_type": "stream",
     "text": [
      "<class 'pandas.core.frame.DataFrame'>\n",
      "RangeIndex: 134 entries, 0 to 133\n",
      "Data columns (total 92 columns):\n",
      "Name               134 non-null object\n",
      "Gender             134 non-null int64\n",
      "M3-TH              134 non-null int64\n",
      "M3-IA              134 non-null int64\n",
      "M3-TW              134 non-null int64\n",
      "DIS-TH             134 non-null int64\n",
      "DIS-IA             134 non-null int64\n",
      "OOPM-TH            134 non-null int64\n",
      "OOPM-IA            134 non-null int64\n",
      "OOPM-TW            134 non-null int64\n",
      "OOPM-PR            134 non-null int64\n",
      "ECCF-TH            134 non-null int64\n",
      "ECCF-IA            134 non-null int64\n",
      "ECCF-TW            134 non-null int64\n",
      "ECCF-PR            134 non-null int64\n",
      "DS-TH              134 non-null int64\n",
      "DS-IA              134 non-null int64\n",
      "DS-TW              134 non-null int64\n",
      "DS-PR              134 non-null int64\n",
      "DLDA-TH            134 non-null int64\n",
      "DLDA-IA            134 non-null int64\n",
      "DLDA-TW            134 non-null int64\n",
      "P/F                134 non-null object\n",
      "GPA-3              134 non-null float64\n",
      "Gender.1           134 non-null int64\n",
      "M4-TH              134 non-null int64\n",
      "M4-IA              134 non-null int64\n",
      "M4-TW              134 non-null int64\n",
      "A0A-TH             134 non-null int64\n",
      "AOA-IA             134 non-null int64\n",
      "AOA-TW             134 non-null int64\n",
      "AOA-PR             134 non-null int64\n",
      "COA-TH             134 non-null int64\n",
      "COA-IA             134 non-null int64\n",
      "COA-TW             134 non-null int64\n",
      "COA-PR             134 non-null int64\n",
      "DBMS-TH            134 non-null int64\n",
      "DBMS-IA            134 non-null int64\n",
      "DBMS-TW            134 non-null int64\n",
      "DBMS-PR            134 non-null int64\n",
      "TCS-TH             134 non-null int64\n",
      "TCS-IA             134 non-null int64\n",
      "CG-TH              134 non-null int64\n",
      "CG-IA              134 non-null int64\n",
      "CG-TW              134 non-null int64\n",
      "CG-PR              134 non-null int64\n",
      "P/F.1              134 non-null object\n",
      "GPA-4              134 non-null float64\n",
      "Gender.2           134 non-null int64\n",
      "MP-TH              134 non-null int64\n",
      "MP-IA              134 non-null int64\n",
      "MP-TW              134 non-null int64\n",
      "MP-PR              134 non-null int64\n",
      "OS-TH              134 non-null int64\n",
      "OS-IA              134 non-null int64\n",
      "OS-TW              134 non-null int64\n",
      "OS-PRA             134 non-null int64\n",
      "SOAD-TH            134 non-null int64\n",
      "SOAD-IA            134 non-null int64\n",
      "SOAD-TW            134 non-null int64\n",
      "SOAD-PR            134 non-null int64\n",
      "CN-TH              134 non-null object\n",
      "CN-IA              134 non-null int64\n",
      "CN-TW              134 non-null int64\n",
      "CN-PR              134 non-null int64\n",
      "WTL-TW             134 non-null int64\n",
      "WTL-PR             134 non-null int64\n",
      "TW 5020            134 non-null object\n",
      "P/F.2              134 non-null object\n",
      "GPA-5              134 non-null float64\n",
      "Gender.3           134 non-null int64\n",
      "SPCC-TH            134 non-null int64\n",
      "SPCC-IA            134 non-null int64\n",
      "SPCC-TW            134 non-null int64\n",
      "SPCC-PR            134 non-null int64\n",
      "SE-TH              134 non-null int64\n",
      "SE-IA              134 non-null int64\n",
      "SE-TW              134 non-null int64\n",
      "SE-PR              134 non-null int64\n",
      "SS-TH              134 non-null int64\n",
      "DD-IA              134 non-null int64\n",
      "DD-TW              134 non-null int64\n",
      "DD-PR              134 non-null int64\n",
      "MCC-TH             134 non-null int64\n",
      "MCC-IA             134 non-null int64\n",
      "MCC-TW             134 non-null int64\n",
      "MCC-PR             134 non-null int64\n",
      "ELECTIVE - I-TW    134 non-null int64\n",
      "NPL-TW             134 non-null int64\n",
      "NPL-PR             134 non-null int64\n",
      "P/F.3              134 non-null object\n",
      "GPA-6              134 non-null float64\n",
      "dtypes: float64(4), int64(81), object(7)\n",
      "memory usage: 96.4+ KB\n"
     ]
    }
   ],
   "source": [
    "df2018.info()"
   ]
  },
  {
   "cell_type": "code",
   "execution_count": null,
   "metadata": {
    "collapsed": true
   },
   "outputs": [],
   "source": []
  },
  {
   "cell_type": "code",
   "execution_count": 204,
   "metadata": {},
   "outputs": [],
   "source": [
    "#df2018.iplot(kind=\"scatter\",x=\"TCS-TH\",y=\"SPCC-TH\",mode=\"markers\",size=10,colors=\"blue\")"
   ]
  },
  {
   "cell_type": "code",
   "execution_count": 205,
   "metadata": {},
   "outputs": [],
   "source": [
    "#df2017.ib"
   ]
  },
  {
   "cell_type": "code",
   "execution_count": 206,
   "metadata": {
    "collapsed": true
   },
   "outputs": [],
   "source": [
    "df2018_copy = df2018.select_dtypes(include=['float64','int64'])"
   ]
  },
  {
   "cell_type": "code",
   "execution_count": 207,
   "metadata": {},
   "outputs": [
    {
     "data": {
      "text/plain": [
       "<bound method DataFrame.head of                                   Name  Gender  M3-TH  M3-IA  M3-TW  DIS-TH  \\\n",
       "0                      PRASAD ABHISHEK       0     23     10     18      36   \n",
       "1           AGAWANE SANDESH VISHWANATH       0     37      8     18      25   \n",
       "2                     AHER PARESH RAJU       0     21      9     16      60   \n",
       "3                    BADHE SAGAR VIJAY       0     17     10     18      48   \n",
       "4                 BAGWE CHAITALI SUHAS       1     56     19     20      62   \n",
       "5      BANAVALIKAR KAMAKSHI PRATHAMESH       1     33     12     20      55   \n",
       "6       BANDOPADHYAY SAPTARSHI SUBRATA       0     36     17     20      47   \n",
       "7                 BARI APEKSHA PRAKASH       1     34     12     22      50   \n",
       "8                 BHAGAT APURVA SANJAY       0     23     12     22      42   \n",
       "9                    BHAT AKSHATA UDAY       1     36     15     20      54   \n",
       "10                    BHAT VINAY VAMAN       0     38     19     18      59   \n",
       "11               BHATT BHAVIN NARENDRA       0     37     16     18      39   \n",
       "12                  BHOI ANKITA SHARAD       1     46     14     20      56   \n",
       "13    BHOSALE CHANDRASHEKHAR BHAUSAHEB       0     32     12     22      53   \n",
       "14                 CHANDAK RAVI SURESH       0     18      9     18      48   \n",
       "15             CHAUDHARI AKSHAY SAYAJI       0     22     11     18      33   \n",
       "16           CHOGALE KARISHMA NARENDRA       1     40     20     22      50   \n",
       "17           CHOUDHARY GANESH DHANARAM       0     53     20     22      52   \n",
       "18             CHOUHAN VIJETA MAHENDRA       1     57     18     20      51   \n",
       "19                  DESAI ASHWINI ANIL       1     17     16     22      32   \n",
       "20             DESHMUKH SIMRAN SANDEEP       1     40     16     22      60   \n",
       "21           DESHPANDE PRATIK RAJENDRA       0     32     12     18      48   \n",
       "22               DHAKTODE SNEHAL ASHOK       1     15      9     20      40   \n",
       "23                          DHAR AKHIL       0     22      9     20      47   \n",
       "24                DHONE AKSHAY UMAKANT       0     20     13     22      56   \n",
       "25                  DOSHI VIRAL PRADIP       0     37     17     20      64   \n",
       "26           GALINDE ABHISHEK SHRIKANT       0     14     11     20      37   \n",
       "27                GAMARE SNEHAL RAJESH       1     35     15     20      54   \n",
       "28                GAWAS SOHAM SADANAND       0     32     11     18      35   \n",
       "29                GHADI VIDYA SATYAWAN       1     16     16     22      44   \n",
       "..                                 ...     ...    ...    ...    ...     ...   \n",
       "104             SAWANT SHREYAS SHAILES       0     47     13     20      51   \n",
       "105                SHAH MRUNALI HITESH       1     17      9     18      34   \n",
       "106                  SHAIKH MOHD JAVED       0     35     11     20      69   \n",
       "107            SHETTY DIVYA SHASHIDHAR       1     32     10     20      34   \n",
       "108             SHETTY GAURAV RAGHURAM       0     34     20     20      42   \n",
       "109          SINGH AMIT SURENDRAPRATAP       0     35     17     22      50   \n",
       "110               SINGH TANMAY PRADEEP       0     49     20     11      64   \n",
       "111                        SINGH VIJAY       0     32     16     10      52   \n",
       "112         SISALE PRITESH SANJAYKUMAR       0     13     10     18      41   \n",
       "113        SONAVARIA DHAVALKUMAR HIREN       0     40     12     20      58   \n",
       "114        SURYAVANSHI DEEPA APPASAHEB       1     44     18     22      45   \n",
       "115        SURYAWANSHI ISHWAR SAKHARAM       0     14      8     18      35   \n",
       "116            TEMBHURNE DAMINI PRAMOD       1     32     13     20      50   \n",
       "117          TATERWAL DEEPIT SATYAVEER       0     32      9     11      49   \n",
       "118  THAKURATHI AJAY SINGH MOHAN SINGH       0     19     14     20      49   \n",
       "119                  UKEY PALASH SUNIL       0     39     16     20      38   \n",
       "120               VAIDYA GAYATRI BIPIN       0     33     19     22      60   \n",
       "121             VIRADIA DHARMIT DINESH       0     20     10     20      50   \n",
       "122             WADIKAR SUSHMIT SURESH       0      8     12     18      42   \n",
       "123            YADAV ASHISH ASHOKKUMAR       0     32     13     20      45   \n",
       "124               HEMANI PRAKASH YADAV       1     21     11     20      32   \n",
       "125            YADAV KESHAV RADHESHYAM       0     48     19     22      68   \n",
       "126           YADAV PRATIMA RAMMANOHAR       1     39     18     22      65   \n",
       "127               YADAV REENA RAMKARAN       1     38     20     22      64   \n",
       "128                 ZAGADE AMEY SANJAY       0     23     12     20      50   \n",
       "129             GANDHI ANMOL VERDHAMAN       0      6     11     13      32   \n",
       "130                GANDHI JAY MAGANLAL       0      0      9     13      37   \n",
       "131             VERNEKAR NEERAJ DEEPAK       0      6     14     15      43   \n",
       "132               WASNIK ASHWIN SHARAD       0      0     14     15      52   \n",
       "133               MHATRE YASH SHAILESH       0     15      8     15      32   \n",
       "\n",
       "     DIS-IA  OOPM-TH  OOPM-IA  OOPM-TW  ...    DD-PR  MCC-TH  MCC-IA  MCC-TW  \\\n",
       "0        14       19       14       19  ...       21      37       8      16   \n",
       "1        15       50       16       20  ...       21      37       8      18   \n",
       "2        16       48       20       22  ...       21      55       8      18   \n",
       "3        16       36       18       21  ...       18      56      10      20   \n",
       "4        20       61       20       24  ...       22      58      15      24   \n",
       "5        18       53       20       24  ...       23      61      10      23   \n",
       "6        18       55       18       22  ...       22      50      12      20   \n",
       "7        17       52       20       23  ...       22      56      13      24   \n",
       "8        16       51       19       22  ...       21      50      11      24   \n",
       "9        19       46       20       20  ...       22      45      11      22   \n",
       "10       18       53       20       23  ...       23      62      16      24   \n",
       "11       11       42       17       21  ...       21      37       9      17   \n",
       "12       18       48       18       22  ...       21      53       8      20   \n",
       "13       15       46       18       20  ...       21      53      12      23   \n",
       "14       14       51       17       22  ...       20      52      10      23   \n",
       "15       18       46       16       23  ...       21      44       8      16   \n",
       "16       19       57       20       21  ...       21      62      17      24   \n",
       "17       20       54       20       21  ...       24      45      10      20   \n",
       "18       20       59       20       23  ...       24      59      14      23   \n",
       "19       19       54       20       22  ...       23      49       8      23   \n",
       "20       19       51       19       22  ...       21      62      11      22   \n",
       "21       17       57       17       22  ...       24      61      13      23   \n",
       "22       14       41       11       21  ...       23      48       8      15   \n",
       "23       13       36       12       21  ...       18      46       8      13   \n",
       "24       14       54       19       20  ...       24      53       8      21   \n",
       "25       18       58       19       21  ...       24      56      15      20   \n",
       "26       13       36       13       19  ...       21       4       8      19   \n",
       "27       19       51       20       23  ...       24      59      11      23   \n",
       "28       12       46       15       19  ...       13      52       8      17   \n",
       "29       18       42       20       24  ...       18      51      11      23   \n",
       "..      ...      ...      ...      ...  ...      ...     ...     ...     ...   \n",
       "104      15       59       18       23  ...       22      55      10      20   \n",
       "105      15       36       17       20  ...       21      43       8      17   \n",
       "106      18       53       15       20  ...       23      58      11      19   \n",
       "107      15       43       14       23  ...       18      45       8      19   \n",
       "108      14       17       11       22  ...       23      34       8      14   \n",
       "109      18       53       20       23  ...       22      47      12      18   \n",
       "110      17       56       18       24  ...       24      49      15      22   \n",
       "111      16       48       19       21  ...       16      39       8      17   \n",
       "112      12       32        8       21  ...       13      41       8      12   \n",
       "113      18       55       18       21  ...       16      55       9      18   \n",
       "114      20       52       18       22  ...       18      53      11      18   \n",
       "115      16       43       12       20  ...       13      48       8      14   \n",
       "116      18       37       16       20  ...       21      58      13      17   \n",
       "117      12       36       10       20  ...       13      48       8      14   \n",
       "118      14       32       11       20  ...       13      37       9      19   \n",
       "119      17       49       20       20  ...       12      32       8      15   \n",
       "120      19       53       20       23  ...       24      58      14      20   \n",
       "121      14       33       13       20  ...       19      50      10      19   \n",
       "122      11       33       13       22  ...       18      49       9      13   \n",
       "123      14       42       13       20  ...       16      52       9      16   \n",
       "124      17       34       17       20  ...       20      38       8      18   \n",
       "125      18       58       18       21  ...       16      59      14      18   \n",
       "126      18       54       18       22  ...       23      61      13      18   \n",
       "127      19       60       20       23  ...       23      59      17      20   \n",
       "128      14       53       19       21  ...       18      51       8      20   \n",
       "129       9       32       14       19  ...       12      32       8      15   \n",
       "130       9       53       14       19  ...       12       0       8      10   \n",
       "131       8       32        8       19  ...       21      47       8      12   \n",
       "132      13       42       13       23  ...       13       0       8      12   \n",
       "133       8       37       12       21  ...       17      49       8      11   \n",
       "\n",
       "     MCC-PR  ELECTIVE - I-TW  NPL-TW  NPL-PR  P/F.3  GPA-6  \n",
       "0        12               38      19      40      P   6.08  \n",
       "1        15               43      16      42      P   6.96  \n",
       "2        16               38      18      44      P   8.21  \n",
       "3        20               38      19      40      P   7.92  \n",
       "4        24               47      20      42      P   9.33  \n",
       "5        21               46      19      41      P   9.00  \n",
       "6        21               45      22      39      P   8.17  \n",
       "7        21               40      19      42      P   8.33  \n",
       "8        21               40      20      40      P   8.17  \n",
       "9        24               46      22      41      P   8.00  \n",
       "10       23               43      23      40      P   9.83  \n",
       "11       19               45      19      40      P   6.92  \n",
       "12       19               42      16      39      P   7.83  \n",
       "13       20               46      19      39      P   8.17  \n",
       "14       22               42      18      42      P   7.67  \n",
       "15       15               40      17      39      P   6.42  \n",
       "16       23               46      19      42      P   9.50  \n",
       "17       23               46      21      41      P   7.67  \n",
       "18       24               43      24      45      P   9.33  \n",
       "19       20               44      20      42      P   8.50  \n",
       "20       18               40      20      40      P   9.17  \n",
       "21       24               46      19      43      P   9.50  \n",
       "22       24               30      21      40     P*   6.79  \n",
       "23       13               40      14      39      P   6.54  \n",
       "24       20               40      19      40      P   7.83  \n",
       "25       23               45      23      47      P   9.50  \n",
       "26       20               40      19      38      F   0.00  \n",
       "27       24               44      19      45      P   8.83  \n",
       "28       11               28      20      47      P   7.21  \n",
       "29       21               40      18      40      P   7.83  \n",
       "..      ...              ...     ...     ...    ...    ...  \n",
       "104      23               45      23      45      F   0.00  \n",
       "105      20               41      18      39      P   7.25  \n",
       "106      20               28      18      42      P   8.67  \n",
       "107      19               45      22      40      P   7.50  \n",
       "108      18               40      18      40     P*   5.88  \n",
       "109      23               43      21      40      P   8.67  \n",
       "110      21               44      24      41      P   8.50  \n",
       "111      19               47      20      41      P   7.33  \n",
       "112      19               29      17      40      P   6.33  \n",
       "113      22               42      22      42      P   8.33  \n",
       "114      20               40      24      40      P   8.67  \n",
       "115      12               40      19      40     P*   6.92  \n",
       "116      17               43      23      42      P   8.71  \n",
       "117      17               28      19      38      P   6.17  \n",
       "118      20               37      20      38      P   6.63  \n",
       "119      11               40      16      37      P   5.79  \n",
       "120      23               46      23      45      P   9.67  \n",
       "121      18               41      21      40      P   8.00  \n",
       "122      15               30      20      40      P   7.08  \n",
       "123      18               40      22      39      P   8.04  \n",
       "124      19               40      21      42      P   7.42  \n",
       "125      22               43      22      43      P   9.08  \n",
       "126      21               45      23      42      P   9.17  \n",
       "127      23               42      24      43      P   9.83  \n",
       "128      22               42      21      40      P   7.83  \n",
       "129      16               38      22      39      F   0.00  \n",
       "130       9               34      16      39      F   0.00  \n",
       "131      15               41      19      42      P   7.83  \n",
       "132      14               43      16      39      F   0.00  \n",
       "133      11               41      14      37      P   6.21  \n",
       "\n",
       "[134 rows x 92 columns]>"
      ]
     },
     "execution_count": 207,
     "metadata": {},
     "output_type": "execute_result"
    }
   ],
   "source": [
    "df2018_copy.index = df2018.Name\n",
    "df2018.head"
   ]
  },
  {
   "cell_type": "code",
   "execution_count": 208,
   "metadata": {},
   "outputs": [],
   "source": [
    "# row = df2018_copy.iloc[0,:-1]\n",
    "# row"
   ]
  },
  {
   "cell_type": "code",
   "execution_count": 209,
   "metadata": {},
   "outputs": [],
   "source": [
    "#row.iplot(kind=\"bar\")"
   ]
  },
  {
   "cell_type": "code",
   "execution_count": 210,
   "metadata": {},
   "outputs": [],
   "source": [
    "def getRecord(name):\n",
    "    for x in df2018_copy.index:\n",
    "        if(x == name):\n",
    "            row = df2018_copy[df2018_copy.index == name]\n",
    "            row = row.iloc[0]\n",
    "            row = row[:-1]\n",
    "    return row.iplot(kind='bar')"
   ]
  },
  {
   "cell_type": "code",
   "execution_count": 211,
   "metadata": {
    "scrolled": false
   },
   "outputs": [],
   "source": [
    "#getRecord(\"JAIN ABHISHEK JAYANTILAL\")"
   ]
  },
  {
   "cell_type": "code",
   "execution_count": 227,
   "metadata": {
    "scrolled": false
   },
   "outputs": [
    {
     "data": {
      "application/vnd.plotly.v1+json": {
       "data": [
        {
         "marker": {
          "color": "rgba(255, 153, 51, 0.6)",
          "line": {
           "color": "rgba(255, 153, 51, 1.0)",
           "width": 1
          }
         },
         "name": "JHA ABHISHEK SHASHINATH",
         "orientation": "v",
         "text": "",
         "type": "bar",
         "x": [
          "Gender",
          "M3-TH",
          "M3-IA",
          "M3-TW",
          "DIS-TH",
          "DIS-IA",
          "OOPM-TH",
          "OOPM-IA",
          "OOPM-TW",
          "OOPM-PR",
          "ECCF-TH",
          "ECCF-IA",
          "ECCF-TW",
          "ECCF-PR",
          "DS-TH",
          "DS-IA",
          "DS-TW",
          "DS-PR",
          "DLDA-TH",
          "DLDA-IA",
          "DLDA-TW",
          "GPA-3",
          "Gender.1",
          "M4-TH",
          "M4-IA",
          "M4-TW",
          "A0A-TH",
          "AOA-IA",
          "AOA-TW",
          "AOA-PR",
          "COA-TH",
          "COA-IA",
          "COA-TW",
          "COA-PR",
          "DBMS-TH",
          "DBMS-IA",
          "DBMS-TW",
          "DBMS-PR",
          "TCS-TH",
          "TCS-IA",
          "CG-TH",
          "CG-IA",
          "CG-TW",
          "CG-PR",
          "GPA-4",
          "Gender.2",
          "MP-TH",
          "MP-IA",
          "MP-TW",
          "MP-PR",
          "OS-TH",
          "OS-IA",
          "OS-TW",
          "OS-PRA",
          "SOAD-TH",
          "SOAD-IA",
          "SOAD-TW",
          "SOAD-PR",
          "CN-IA",
          "CN-TW",
          "CN-PR",
          "WTL-TW",
          "WTL-PR",
          "GPA-5",
          "Gender.3",
          "SPCC-TH",
          "SPCC-IA",
          "SPCC-TW",
          "SPCC-PR",
          "SE-TH",
          "SE-IA",
          "SE-TW",
          "SE-PR",
          "SS-TH",
          "DD-IA",
          "DD-TW",
          "DD-PR",
          "MCC-TH",
          "MCC-IA",
          "MCC-TW",
          "MCC-PR",
          "ELECTIVE - I-TW",
          "NPL-TW",
          "NPL-PR"
         ],
         "y": [
          0,
          38,
          17,
          18,
          51,
          16,
          52,
          19,
          21,
          19,
          37,
          13,
          23,
          21,
          52,
          13,
          21,
          21,
          42,
          18,
          22,
          7.32,
          0,
          58,
          16,
          18,
          58,
          17,
          21,
          20,
          48,
          13,
          18,
          16,
          55,
          18,
          21,
          22,
          57,
          15,
          45,
          17,
          23,
          20,
          8.14,
          0,
          54,
          15,
          23,
          23,
          54,
          16,
          22,
          24,
          44,
          20,
          21,
          22,
          19,
          21,
          19,
          23,
          43,
          8,
          0,
          55,
          15,
          20,
          21,
          51,
          19,
          22,
          24,
          54,
          15,
          19,
          20,
          55,
          14,
          23,
          24,
          41,
          21,
          42
         ]
        }
       ],
       "layout": {
        "legend": {
         "bgcolor": "#F5F6F9",
         "font": {
          "color": "#4D5663"
         }
        },
        "paper_bgcolor": "#F5F6F9",
        "plot_bgcolor": "#F5F6F9",
        "titlefont": {
         "color": "#4D5663"
        },
        "xaxis1": {
         "gridcolor": "#E1E5ED",
         "showgrid": true,
         "tickfont": {
          "color": "#4D5663"
         },
         "title": "",
         "titlefont": {
          "color": "#4D5663"
         },
         "zerolinecolor": "#E1E5ED"
        },
        "yaxis1": {
         "gridcolor": "#E1E5ED",
         "showgrid": true,
         "tickfont": {
          "color": "#4D5663"
         },
         "title": "",
         "titlefont": {
          "color": "#4D5663"
         },
         "zerolinecolor": "#E1E5ED"
        }
       }
      },
      "text/html": [
       "<div id=\"8446497a-5173-49f5-90cc-85804058be3e\" style=\"height: 525px; width: 100%;\" class=\"plotly-graph-div\"></div><script type=\"text/javascript\">require([\"plotly\"], function(Plotly) { window.PLOTLYENV=window.PLOTLYENV || {};window.PLOTLYENV.BASE_URL=\"https://plot.ly\";Plotly.newPlot(\"8446497a-5173-49f5-90cc-85804058be3e\", [{\"name\": \"JHA ABHISHEK SHASHINATH\", \"text\": \"\", \"y\": [0.0, 38.0, 17.0, 18.0, 51.0, 16.0, 52.0, 19.0, 21.0, 19.0, 37.0, 13.0, 23.0, 21.0, 52.0, 13.0, 21.0, 21.0, 42.0, 18.0, 22.0, 7.32, 0.0, 58.0, 16.0, 18.0, 58.0, 17.0, 21.0, 20.0, 48.0, 13.0, 18.0, 16.0, 55.0, 18.0, 21.0, 22.0, 57.0, 15.0, 45.0, 17.0, 23.0, 20.0, 8.14, 0.0, 54.0, 15.0, 23.0, 23.0, 54.0, 16.0, 22.0, 24.0, 44.0, 20.0, 21.0, 22.0, 19.0, 21.0, 19.0, 23.0, 43.0, 8.0, 0.0, 55.0, 15.0, 20.0, 21.0, 51.0, 19.0, 22.0, 24.0, 54.0, 15.0, 19.0, 20.0, 55.0, 14.0, 23.0, 24.0, 41.0, 21.0, 42.0], \"marker\": {\"color\": \"rgba(255, 153, 51, 0.6)\", \"line\": {\"color\": \"rgba(255, 153, 51, 1.0)\", \"width\": 1}}, \"x\": [\"Gender\", \"M3-TH\", \"M3-IA\", \"M3-TW\", \"DIS-TH\", \"DIS-IA\", \"OOPM-TH\", \"OOPM-IA\", \"OOPM-TW\", \"OOPM-PR\", \"ECCF-TH\", \"ECCF-IA\", \"ECCF-TW\", \"ECCF-PR\", \"DS-TH\", \"DS-IA\", \"DS-TW\", \"DS-PR\", \"DLDA-TH\", \"DLDA-IA\", \"DLDA-TW\", \"GPA-3\", \"Gender.1\", \"M4-TH\", \"M4-IA\", \"M4-TW\", \"A0A-TH\", \"AOA-IA\", \"AOA-TW\", \"AOA-PR\", \"COA-TH\", \"COA-IA\", \"COA-TW\", \"COA-PR\", \"DBMS-TH\", \"DBMS-IA\", \"DBMS-TW\", \"DBMS-PR\", \"TCS-TH\", \"TCS-IA\", \"CG-TH\", \"CG-IA\", \"CG-TW\", \"CG-PR\", \"GPA-4\", \"Gender.2\", \"MP-TH\", \"MP-IA\", \"MP-TW\", \"MP-PR\", \"OS-TH\", \"OS-IA\", \"OS-TW\", \"OS-PRA\", \"SOAD-TH\", \"SOAD-IA\", \"SOAD-TW\", \"SOAD-PR\", \"CN-IA\", \"CN-TW\", \"CN-PR\", \"WTL-TW\", \"WTL-PR\", \"GPA-5\", \"Gender.3\", \"SPCC-TH\", \"SPCC-IA\", \"SPCC-TW\", \"SPCC-PR\", \"SE-TH\", \"SE-IA\", \"SE-TW\", \"SE-PR\", \"SS-TH\", \"DD-IA\", \"DD-TW\", \"DD-PR\", \"MCC-TH\", \"MCC-IA\", \"MCC-TW\", \"MCC-PR\", \"ELECTIVE - I-TW\", \"NPL-TW\", \"NPL-PR\"], \"type\": \"bar\", \"orientation\": \"v\"}], {\"paper_bgcolor\": \"#F5F6F9\", \"plot_bgcolor\": \"#F5F6F9\", \"xaxis1\": {\"tickfont\": {\"color\": \"#4D5663\"}, \"title\": \"\", \"showgrid\": true, \"zerolinecolor\": \"#E1E5ED\", \"gridcolor\": \"#E1E5ED\", \"titlefont\": {\"color\": \"#4D5663\"}}, \"yaxis1\": {\"tickfont\": {\"color\": \"#4D5663\"}, \"title\": \"\", \"showgrid\": true, \"zerolinecolor\": \"#E1E5ED\", \"gridcolor\": \"#E1E5ED\", \"titlefont\": {\"color\": \"#4D5663\"}}, \"titlefont\": {\"color\": \"#4D5663\"}, \"legend\": {\"bgcolor\": \"#F5F6F9\", \"font\": {\"color\": \"#4D5663\"}}}, {\"linkText\": \"Export to plot.ly\", \"showLink\": true})});</script>"
      ],
      "text/vnd.plotly.v1+html": [
       "<div id=\"8446497a-5173-49f5-90cc-85804058be3e\" style=\"height: 525px; width: 100%;\" class=\"plotly-graph-div\"></div><script type=\"text/javascript\">require([\"plotly\"], function(Plotly) { window.PLOTLYENV=window.PLOTLYENV || {};window.PLOTLYENV.BASE_URL=\"https://plot.ly\";Plotly.newPlot(\"8446497a-5173-49f5-90cc-85804058be3e\", [{\"name\": \"JHA ABHISHEK SHASHINATH\", \"text\": \"\", \"y\": [0.0, 38.0, 17.0, 18.0, 51.0, 16.0, 52.0, 19.0, 21.0, 19.0, 37.0, 13.0, 23.0, 21.0, 52.0, 13.0, 21.0, 21.0, 42.0, 18.0, 22.0, 7.32, 0.0, 58.0, 16.0, 18.0, 58.0, 17.0, 21.0, 20.0, 48.0, 13.0, 18.0, 16.0, 55.0, 18.0, 21.0, 22.0, 57.0, 15.0, 45.0, 17.0, 23.0, 20.0, 8.14, 0.0, 54.0, 15.0, 23.0, 23.0, 54.0, 16.0, 22.0, 24.0, 44.0, 20.0, 21.0, 22.0, 19.0, 21.0, 19.0, 23.0, 43.0, 8.0, 0.0, 55.0, 15.0, 20.0, 21.0, 51.0, 19.0, 22.0, 24.0, 54.0, 15.0, 19.0, 20.0, 55.0, 14.0, 23.0, 24.0, 41.0, 21.0, 42.0], \"marker\": {\"color\": \"rgba(255, 153, 51, 0.6)\", \"line\": {\"color\": \"rgba(255, 153, 51, 1.0)\", \"width\": 1}}, \"x\": [\"Gender\", \"M3-TH\", \"M3-IA\", \"M3-TW\", \"DIS-TH\", \"DIS-IA\", \"OOPM-TH\", \"OOPM-IA\", \"OOPM-TW\", \"OOPM-PR\", \"ECCF-TH\", \"ECCF-IA\", \"ECCF-TW\", \"ECCF-PR\", \"DS-TH\", \"DS-IA\", \"DS-TW\", \"DS-PR\", \"DLDA-TH\", \"DLDA-IA\", \"DLDA-TW\", \"GPA-3\", \"Gender.1\", \"M4-TH\", \"M4-IA\", \"M4-TW\", \"A0A-TH\", \"AOA-IA\", \"AOA-TW\", \"AOA-PR\", \"COA-TH\", \"COA-IA\", \"COA-TW\", \"COA-PR\", \"DBMS-TH\", \"DBMS-IA\", \"DBMS-TW\", \"DBMS-PR\", \"TCS-TH\", \"TCS-IA\", \"CG-TH\", \"CG-IA\", \"CG-TW\", \"CG-PR\", \"GPA-4\", \"Gender.2\", \"MP-TH\", \"MP-IA\", \"MP-TW\", \"MP-PR\", \"OS-TH\", \"OS-IA\", \"OS-TW\", \"OS-PRA\", \"SOAD-TH\", \"SOAD-IA\", \"SOAD-TW\", \"SOAD-PR\", \"CN-IA\", \"CN-TW\", \"CN-PR\", \"WTL-TW\", \"WTL-PR\", \"GPA-5\", \"Gender.3\", \"SPCC-TH\", \"SPCC-IA\", \"SPCC-TW\", \"SPCC-PR\", \"SE-TH\", \"SE-IA\", \"SE-TW\", \"SE-PR\", \"SS-TH\", \"DD-IA\", \"DD-TW\", \"DD-PR\", \"MCC-TH\", \"MCC-IA\", \"MCC-TW\", \"MCC-PR\", \"ELECTIVE - I-TW\", \"NPL-TW\", \"NPL-PR\"], \"type\": \"bar\", \"orientation\": \"v\"}], {\"paper_bgcolor\": \"#F5F6F9\", \"plot_bgcolor\": \"#F5F6F9\", \"xaxis1\": {\"tickfont\": {\"color\": \"#4D5663\"}, \"title\": \"\", \"showgrid\": true, \"zerolinecolor\": \"#E1E5ED\", \"gridcolor\": \"#E1E5ED\", \"titlefont\": {\"color\": \"#4D5663\"}}, \"yaxis1\": {\"tickfont\": {\"color\": \"#4D5663\"}, \"title\": \"\", \"showgrid\": true, \"zerolinecolor\": \"#E1E5ED\", \"gridcolor\": \"#E1E5ED\", \"titlefont\": {\"color\": \"#4D5663\"}}, \"titlefont\": {\"color\": \"#4D5663\"}, \"legend\": {\"bgcolor\": \"#F5F6F9\", \"font\": {\"color\": \"#4D5663\"}}}, {\"linkText\": \"Export to plot.ly\", \"showLink\": true})});</script>"
      ]
     },
     "metadata": {},
     "output_type": "display_data"
    }
   ],
   "source": [
    "getRecord('JHA ABHISHEK SHASHINATH')"
   ]
  },
  {
   "cell_type": "code",
   "execution_count": 213,
   "metadata": {
    "scrolled": true
   },
   "outputs": [
    {
     "data": {
      "application/vnd.plotly.v1+json": {
       "data": [
        {
         "marker": {
          "color": "rgba(255, 153, 51, 0.6)",
          "line": {
           "color": "rgba(255, 153, 51, 1.0)",
           "width": 1
          }
         },
         "name": "PAREKH JIGAR MANISH",
         "orientation": "v",
         "text": "",
         "type": "bar",
         "x": [
          "Gender",
          "M3-TH",
          "M3-IA",
          "M3-TW",
          "DIS-TH",
          "DIS-IA",
          "OOPM-TH",
          "OOPM-IA",
          "OOPM-TW",
          "OOPM-PR",
          "ECCF-TH",
          "ECCF-IA",
          "ECCF-TW",
          "ECCF-PR",
          "DS-TH",
          "DS-IA",
          "DS-TW",
          "DS-PR",
          "DLDA-TH",
          "DLDA-IA",
          "DLDA-TW",
          "GPA-3",
          "Gender.1",
          "M4-TH",
          "M4-IA",
          "M4-TW",
          "A0A-TH",
          "AOA-IA",
          "AOA-TW",
          "AOA-PR",
          "COA-TH",
          "COA-IA",
          "COA-TW",
          "COA-PR",
          "DBMS-TH",
          "DBMS-IA",
          "DBMS-TW",
          "DBMS-PR",
          "TCS-TH",
          "TCS-IA",
          "CG-TH",
          "CG-IA",
          "CG-TW",
          "CG-PR",
          "GPA-4",
          "Gender.2",
          "MP-TH",
          "MP-IA",
          "MP-TW",
          "MP-PR",
          "OS-TH",
          "OS-IA",
          "OS-TW",
          "OS-PRA",
          "SOAD-TH",
          "SOAD-IA",
          "SOAD-TW",
          "SOAD-PR",
          "CN-IA",
          "CN-TW",
          "CN-PR",
          "WTL-TW",
          "WTL-PR",
          "GPA-5",
          "Gender.3",
          "SPCC-TH",
          "SPCC-IA",
          "SPCC-TW",
          "SPCC-PR",
          "SE-TH",
          "SE-IA",
          "SE-TW",
          "SE-PR",
          "SS-TH",
          "DD-IA",
          "DD-TW",
          "DD-PR",
          "MCC-TH",
          "MCC-IA",
          "MCC-TW",
          "MCC-PR",
          "ELECTIVE - I-TW",
          "NPL-TW",
          "NPL-PR"
         ],
         "y": [
          0,
          5,
          10,
          18,
          35,
          15,
          42,
          14,
          22,
          18,
          36,
          11,
          22,
          19,
          32,
          10,
          20,
          19,
          40,
          20,
          22,
          0,
          0,
          21,
          11,
          13,
          49,
          10,
          22,
          19,
          33,
          11,
          18,
          16,
          34,
          11,
          20,
          22,
          14,
          10,
          37,
          12,
          22,
          22,
          0,
          0,
          35,
          10,
          21,
          23,
          41,
          11,
          24,
          23,
          34,
          12,
          22,
          23,
          12,
          21,
          22,
          23,
          43,
          0,
          0,
          48,
          16,
          19,
          21,
          46,
          16,
          21,
          21,
          47,
          14,
          21,
          24,
          48,
          10,
          22,
          22,
          43,
          18,
          46
         ]
        }
       ],
       "layout": {
        "legend": {
         "bgcolor": "#F5F6F9",
         "font": {
          "color": "#4D5663"
         }
        },
        "paper_bgcolor": "#F5F6F9",
        "plot_bgcolor": "#F5F6F9",
        "titlefont": {
         "color": "#4D5663"
        },
        "xaxis1": {
         "gridcolor": "#E1E5ED",
         "showgrid": true,
         "tickfont": {
          "color": "#4D5663"
         },
         "title": "",
         "titlefont": {
          "color": "#4D5663"
         },
         "zerolinecolor": "#E1E5ED"
        },
        "yaxis1": {
         "gridcolor": "#E1E5ED",
         "showgrid": true,
         "tickfont": {
          "color": "#4D5663"
         },
         "title": "",
         "titlefont": {
          "color": "#4D5663"
         },
         "zerolinecolor": "#E1E5ED"
        }
       }
      },
      "text/html": [
       "<div id=\"d0b63fe5-84e9-4bd7-9392-b16065c607ee\" style=\"height: 525px; width: 100%;\" class=\"plotly-graph-div\"></div><script type=\"text/javascript\">require([\"plotly\"], function(Plotly) { window.PLOTLYENV=window.PLOTLYENV || {};window.PLOTLYENV.BASE_URL=\"https://plot.ly\";Plotly.newPlot(\"d0b63fe5-84e9-4bd7-9392-b16065c607ee\", [{\"name\": \"PAREKH JIGAR MANISH\", \"text\": \"\", \"y\": [0.0, 5.0, 10.0, 18.0, 35.0, 15.0, 42.0, 14.0, 22.0, 18.0, 36.0, 11.0, 22.0, 19.0, 32.0, 10.0, 20.0, 19.0, 40.0, 20.0, 22.0, 0.0, 0.0, 21.0, 11.0, 13.0, 49.0, 10.0, 22.0, 19.0, 33.0, 11.0, 18.0, 16.0, 34.0, 11.0, 20.0, 22.0, 14.0, 10.0, 37.0, 12.0, 22.0, 22.0, 0.0, 0.0, 35.0, 10.0, 21.0, 23.0, 41.0, 11.0, 24.0, 23.0, 34.0, 12.0, 22.0, 23.0, 12.0, 21.0, 22.0, 23.0, 43.0, 0.0, 0.0, 48.0, 16.0, 19.0, 21.0, 46.0, 16.0, 21.0, 21.0, 47.0, 14.0, 21.0, 24.0, 48.0, 10.0, 22.0, 22.0, 43.0, 18.0, 46.0], \"marker\": {\"color\": \"rgba(255, 153, 51, 0.6)\", \"line\": {\"color\": \"rgba(255, 153, 51, 1.0)\", \"width\": 1}}, \"x\": [\"Gender\", \"M3-TH\", \"M3-IA\", \"M3-TW\", \"DIS-TH\", \"DIS-IA\", \"OOPM-TH\", \"OOPM-IA\", \"OOPM-TW\", \"OOPM-PR\", \"ECCF-TH\", \"ECCF-IA\", \"ECCF-TW\", \"ECCF-PR\", \"DS-TH\", \"DS-IA\", \"DS-TW\", \"DS-PR\", \"DLDA-TH\", \"DLDA-IA\", \"DLDA-TW\", \"GPA-3\", \"Gender.1\", \"M4-TH\", \"M4-IA\", \"M4-TW\", \"A0A-TH\", \"AOA-IA\", \"AOA-TW\", \"AOA-PR\", \"COA-TH\", \"COA-IA\", \"COA-TW\", \"COA-PR\", \"DBMS-TH\", \"DBMS-IA\", \"DBMS-TW\", \"DBMS-PR\", \"TCS-TH\", \"TCS-IA\", \"CG-TH\", \"CG-IA\", \"CG-TW\", \"CG-PR\", \"GPA-4\", \"Gender.2\", \"MP-TH\", \"MP-IA\", \"MP-TW\", \"MP-PR\", \"OS-TH\", \"OS-IA\", \"OS-TW\", \"OS-PRA\", \"SOAD-TH\", \"SOAD-IA\", \"SOAD-TW\", \"SOAD-PR\", \"CN-IA\", \"CN-TW\", \"CN-PR\", \"WTL-TW\", \"WTL-PR\", \"GPA-5\", \"Gender.3\", \"SPCC-TH\", \"SPCC-IA\", \"SPCC-TW\", \"SPCC-PR\", \"SE-TH\", \"SE-IA\", \"SE-TW\", \"SE-PR\", \"SS-TH\", \"DD-IA\", \"DD-TW\", \"DD-PR\", \"MCC-TH\", \"MCC-IA\", \"MCC-TW\", \"MCC-PR\", \"ELECTIVE - I-TW\", \"NPL-TW\", \"NPL-PR\"], \"type\": \"bar\", \"orientation\": \"v\"}], {\"paper_bgcolor\": \"#F5F6F9\", \"plot_bgcolor\": \"#F5F6F9\", \"xaxis1\": {\"tickfont\": {\"color\": \"#4D5663\"}, \"title\": \"\", \"showgrid\": true, \"zerolinecolor\": \"#E1E5ED\", \"gridcolor\": \"#E1E5ED\", \"titlefont\": {\"color\": \"#4D5663\"}}, \"yaxis1\": {\"tickfont\": {\"color\": \"#4D5663\"}, \"title\": \"\", \"showgrid\": true, \"zerolinecolor\": \"#E1E5ED\", \"gridcolor\": \"#E1E5ED\", \"titlefont\": {\"color\": \"#4D5663\"}}, \"titlefont\": {\"color\": \"#4D5663\"}, \"legend\": {\"bgcolor\": \"#F5F6F9\", \"font\": {\"color\": \"#4D5663\"}}}, {\"linkText\": \"Export to plot.ly\", \"showLink\": true})});</script>"
      ],
      "text/vnd.plotly.v1+html": [
       "<div id=\"d0b63fe5-84e9-4bd7-9392-b16065c607ee\" style=\"height: 525px; width: 100%;\" class=\"plotly-graph-div\"></div><script type=\"text/javascript\">require([\"plotly\"], function(Plotly) { window.PLOTLYENV=window.PLOTLYENV || {};window.PLOTLYENV.BASE_URL=\"https://plot.ly\";Plotly.newPlot(\"d0b63fe5-84e9-4bd7-9392-b16065c607ee\", [{\"name\": \"PAREKH JIGAR MANISH\", \"text\": \"\", \"y\": [0.0, 5.0, 10.0, 18.0, 35.0, 15.0, 42.0, 14.0, 22.0, 18.0, 36.0, 11.0, 22.0, 19.0, 32.0, 10.0, 20.0, 19.0, 40.0, 20.0, 22.0, 0.0, 0.0, 21.0, 11.0, 13.0, 49.0, 10.0, 22.0, 19.0, 33.0, 11.0, 18.0, 16.0, 34.0, 11.0, 20.0, 22.0, 14.0, 10.0, 37.0, 12.0, 22.0, 22.0, 0.0, 0.0, 35.0, 10.0, 21.0, 23.0, 41.0, 11.0, 24.0, 23.0, 34.0, 12.0, 22.0, 23.0, 12.0, 21.0, 22.0, 23.0, 43.0, 0.0, 0.0, 48.0, 16.0, 19.0, 21.0, 46.0, 16.0, 21.0, 21.0, 47.0, 14.0, 21.0, 24.0, 48.0, 10.0, 22.0, 22.0, 43.0, 18.0, 46.0], \"marker\": {\"color\": \"rgba(255, 153, 51, 0.6)\", \"line\": {\"color\": \"rgba(255, 153, 51, 1.0)\", \"width\": 1}}, \"x\": [\"Gender\", \"M3-TH\", \"M3-IA\", \"M3-TW\", \"DIS-TH\", \"DIS-IA\", \"OOPM-TH\", \"OOPM-IA\", \"OOPM-TW\", \"OOPM-PR\", \"ECCF-TH\", \"ECCF-IA\", \"ECCF-TW\", \"ECCF-PR\", \"DS-TH\", \"DS-IA\", \"DS-TW\", \"DS-PR\", \"DLDA-TH\", \"DLDA-IA\", \"DLDA-TW\", \"GPA-3\", \"Gender.1\", \"M4-TH\", \"M4-IA\", \"M4-TW\", \"A0A-TH\", \"AOA-IA\", \"AOA-TW\", \"AOA-PR\", \"COA-TH\", \"COA-IA\", \"COA-TW\", \"COA-PR\", \"DBMS-TH\", \"DBMS-IA\", \"DBMS-TW\", \"DBMS-PR\", \"TCS-TH\", \"TCS-IA\", \"CG-TH\", \"CG-IA\", \"CG-TW\", \"CG-PR\", \"GPA-4\", \"Gender.2\", \"MP-TH\", \"MP-IA\", \"MP-TW\", \"MP-PR\", \"OS-TH\", \"OS-IA\", \"OS-TW\", \"OS-PRA\", \"SOAD-TH\", \"SOAD-IA\", \"SOAD-TW\", \"SOAD-PR\", \"CN-IA\", \"CN-TW\", \"CN-PR\", \"WTL-TW\", \"WTL-PR\", \"GPA-5\", \"Gender.3\", \"SPCC-TH\", \"SPCC-IA\", \"SPCC-TW\", \"SPCC-PR\", \"SE-TH\", \"SE-IA\", \"SE-TW\", \"SE-PR\", \"SS-TH\", \"DD-IA\", \"DD-TW\", \"DD-PR\", \"MCC-TH\", \"MCC-IA\", \"MCC-TW\", \"MCC-PR\", \"ELECTIVE - I-TW\", \"NPL-TW\", \"NPL-PR\"], \"type\": \"bar\", \"orientation\": \"v\"}], {\"paper_bgcolor\": \"#F5F6F9\", \"plot_bgcolor\": \"#F5F6F9\", \"xaxis1\": {\"tickfont\": {\"color\": \"#4D5663\"}, \"title\": \"\", \"showgrid\": true, \"zerolinecolor\": \"#E1E5ED\", \"gridcolor\": \"#E1E5ED\", \"titlefont\": {\"color\": \"#4D5663\"}}, \"yaxis1\": {\"tickfont\": {\"color\": \"#4D5663\"}, \"title\": \"\", \"showgrid\": true, \"zerolinecolor\": \"#E1E5ED\", \"gridcolor\": \"#E1E5ED\", \"titlefont\": {\"color\": \"#4D5663\"}}, \"titlefont\": {\"color\": \"#4D5663\"}, \"legend\": {\"bgcolor\": \"#F5F6F9\", \"font\": {\"color\": \"#4D5663\"}}}, {\"linkText\": \"Export to plot.ly\", \"showLink\": true})});</script>"
      ]
     },
     "metadata": {},
     "output_type": "display_data"
    }
   ],
   "source": [
    "getRecord(\"PAREKH JIGAR MANISH\")"
   ]
  },
  {
   "cell_type": "code",
   "execution_count": 228,
   "metadata": {},
   "outputs": [
    {
     "data": {
      "application/vnd.plotly.v1+json": {
       "data": [
        {
         "marker": {
          "color": "rgba(255, 153, 51, 0.6)",
          "line": {
           "color": "rgba(255, 153, 51, 1.0)",
           "width": 1
          }
         },
         "name": "GPA-3",
         "orientation": "v",
         "text": "",
         "type": "bar",
         "x": [
          "JHA ABHISHEK SHASHINATH"
         ],
         "y": [
          7.32
         ]
        },
        {
         "marker": {
          "color": "rgba(55, 128, 191, 0.6)",
          "line": {
           "color": "rgba(55, 128, 191, 1.0)",
           "width": 1
          }
         },
         "name": "GPA-4",
         "orientation": "v",
         "text": "",
         "type": "bar",
         "x": [
          "JHA ABHISHEK SHASHINATH"
         ],
         "y": [
          8.14
         ]
        },
        {
         "marker": {
          "color": "rgba(50, 171, 96, 0.6)",
          "line": {
           "color": "rgba(50, 171, 96, 1.0)",
           "width": 1
          }
         },
         "name": "GPA-5",
         "orientation": "v",
         "text": "",
         "type": "bar",
         "x": [
          "JHA ABHISHEK SHASHINATH"
         ],
         "y": [
          8
         ]
        },
        {
         "marker": {
          "color": "rgba(128, 0, 128, 0.6)",
          "line": {
           "color": "rgba(128, 0, 128, 1.0)",
           "width": 1
          }
         },
         "name": "GPA-6",
         "orientation": "v",
         "text": "",
         "type": "bar",
         "x": [
          "JHA ABHISHEK SHASHINATH"
         ],
         "y": [
          8.33
         ]
        }
       ],
       "layout": {
        "legend": {
         "bgcolor": "#F5F6F9",
         "font": {
          "color": "#4D5663"
         }
        },
        "paper_bgcolor": "#F5F6F9",
        "plot_bgcolor": "#F5F6F9",
        "titlefont": {
         "color": "#4D5663"
        },
        "xaxis1": {
         "gridcolor": "#E1E5ED",
         "showgrid": true,
         "tickfont": {
          "color": "#4D5663"
         },
         "title": "",
         "titlefont": {
          "color": "#4D5663"
         },
         "zerolinecolor": "#E1E5ED"
        },
        "yaxis1": {
         "gridcolor": "#E1E5ED",
         "showgrid": true,
         "tickfont": {
          "color": "#4D5663"
         },
         "title": "",
         "titlefont": {
          "color": "#4D5663"
         },
         "zerolinecolor": "#E1E5ED"
        }
       }
      },
      "text/html": [
       "<div id=\"420d4cc8-3ef1-4301-b7ce-0ff88976ddac\" style=\"height: 525px; width: 100%;\" class=\"plotly-graph-div\"></div><script type=\"text/javascript\">require([\"plotly\"], function(Plotly) { window.PLOTLYENV=window.PLOTLYENV || {};window.PLOTLYENV.BASE_URL=\"https://plot.ly\";Plotly.newPlot(\"420d4cc8-3ef1-4301-b7ce-0ff88976ddac\", [{\"name\": \"GPA-3\", \"text\": \"\", \"y\": [7.32], \"marker\": {\"color\": \"rgba(255, 153, 51, 0.6)\", \"line\": {\"color\": \"rgba(255, 153, 51, 1.0)\", \"width\": 1}}, \"x\": [\"JHA ABHISHEK SHASHINATH\"], \"type\": \"bar\", \"orientation\": \"v\"}, {\"name\": \"GPA-4\", \"text\": \"\", \"y\": [8.14], \"marker\": {\"color\": \"rgba(55, 128, 191, 0.6)\", \"line\": {\"color\": \"rgba(55, 128, 191, 1.0)\", \"width\": 1}}, \"x\": [\"JHA ABHISHEK SHASHINATH\"], \"type\": \"bar\", \"orientation\": \"v\"}, {\"name\": \"GPA-5\", \"text\": \"\", \"y\": [8.0], \"marker\": {\"color\": \"rgba(50, 171, 96, 0.6)\", \"line\": {\"color\": \"rgba(50, 171, 96, 1.0)\", \"width\": 1}}, \"x\": [\"JHA ABHISHEK SHASHINATH\"], \"type\": \"bar\", \"orientation\": \"v\"}, {\"name\": \"GPA-6\", \"text\": \"\", \"y\": [8.33], \"marker\": {\"color\": \"rgba(128, 0, 128, 0.6)\", \"line\": {\"color\": \"rgba(128, 0, 128, 1.0)\", \"width\": 1}}, \"x\": [\"JHA ABHISHEK SHASHINATH\"], \"type\": \"bar\", \"orientation\": \"v\"}], {\"paper_bgcolor\": \"#F5F6F9\", \"plot_bgcolor\": \"#F5F6F9\", \"xaxis1\": {\"tickfont\": {\"color\": \"#4D5663\"}, \"title\": \"\", \"showgrid\": true, \"zerolinecolor\": \"#E1E5ED\", \"gridcolor\": \"#E1E5ED\", \"titlefont\": {\"color\": \"#4D5663\"}}, \"yaxis1\": {\"tickfont\": {\"color\": \"#4D5663\"}, \"title\": \"\", \"showgrid\": true, \"zerolinecolor\": \"#E1E5ED\", \"gridcolor\": \"#E1E5ED\", \"titlefont\": {\"color\": \"#4D5663\"}}, \"titlefont\": {\"color\": \"#4D5663\"}, \"legend\": {\"bgcolor\": \"#F5F6F9\", \"font\": {\"color\": \"#4D5663\"}}}, {\"linkText\": \"Export to plot.ly\", \"showLink\": true})});</script>"
      ],
      "text/vnd.plotly.v1+html": [
       "<div id=\"420d4cc8-3ef1-4301-b7ce-0ff88976ddac\" style=\"height: 525px; width: 100%;\" class=\"plotly-graph-div\"></div><script type=\"text/javascript\">require([\"plotly\"], function(Plotly) { window.PLOTLYENV=window.PLOTLYENV || {};window.PLOTLYENV.BASE_URL=\"https://plot.ly\";Plotly.newPlot(\"420d4cc8-3ef1-4301-b7ce-0ff88976ddac\", [{\"name\": \"GPA-3\", \"text\": \"\", \"y\": [7.32], \"marker\": {\"color\": \"rgba(255, 153, 51, 0.6)\", \"line\": {\"color\": \"rgba(255, 153, 51, 1.0)\", \"width\": 1}}, \"x\": [\"JHA ABHISHEK SHASHINATH\"], \"type\": \"bar\", \"orientation\": \"v\"}, {\"name\": \"GPA-4\", \"text\": \"\", \"y\": [8.14], \"marker\": {\"color\": \"rgba(55, 128, 191, 0.6)\", \"line\": {\"color\": \"rgba(55, 128, 191, 1.0)\", \"width\": 1}}, \"x\": [\"JHA ABHISHEK SHASHINATH\"], \"type\": \"bar\", \"orientation\": \"v\"}, {\"name\": \"GPA-5\", \"text\": \"\", \"y\": [8.0], \"marker\": {\"color\": \"rgba(50, 171, 96, 0.6)\", \"line\": {\"color\": \"rgba(50, 171, 96, 1.0)\", \"width\": 1}}, \"x\": [\"JHA ABHISHEK SHASHINATH\"], \"type\": \"bar\", \"orientation\": \"v\"}, {\"name\": \"GPA-6\", \"text\": \"\", \"y\": [8.33], \"marker\": {\"color\": \"rgba(128, 0, 128, 0.6)\", \"line\": {\"color\": \"rgba(128, 0, 128, 1.0)\", \"width\": 1}}, \"x\": [\"JHA ABHISHEK SHASHINATH\"], \"type\": \"bar\", \"orientation\": \"v\"}], {\"paper_bgcolor\": \"#F5F6F9\", \"plot_bgcolor\": \"#F5F6F9\", \"xaxis1\": {\"tickfont\": {\"color\": \"#4D5663\"}, \"title\": \"\", \"showgrid\": true, \"zerolinecolor\": \"#E1E5ED\", \"gridcolor\": \"#E1E5ED\", \"titlefont\": {\"color\": \"#4D5663\"}}, \"yaxis1\": {\"tickfont\": {\"color\": \"#4D5663\"}, \"title\": \"\", \"showgrid\": true, \"zerolinecolor\": \"#E1E5ED\", \"gridcolor\": \"#E1E5ED\", \"titlefont\": {\"color\": \"#4D5663\"}}, \"titlefont\": {\"color\": \"#4D5663\"}, \"legend\": {\"bgcolor\": \"#F5F6F9\", \"font\": {\"color\": \"#4D5663\"}}}, {\"linkText\": \"Export to plot.ly\", \"showLink\": true})});</script>"
      ]
     },
     "metadata": {},
     "output_type": "display_data"
    }
   ],
   "source": [
    "df2018_GPA = df2018_copy.filter(regex='GPA')\n",
    "df2018_GPA[df2018_GPA.index == \"JHA ABHISHEK SHASHINATH\"].iplot(kind=\"bar\")"
   ]
  },
  {
   "cell_type": "code",
   "execution_count": 231,
   "metadata": {
    "scrolled": true
   },
   "outputs": [
    {
     "data": {
      "text/plain": [
       "GPA-3    9.57\n",
       "GPA-4    9.82\n",
       "GPA-5    9.67\n",
       "GPA-6    9.83\n",
       "dtype: float64"
      ]
     },
     "execution_count": 231,
     "metadata": {},
     "output_type": "execute_result"
    }
   ],
   "source": [
    "\n",
    "\n",
    "df2018_GPA[df2018_GPA > 0].min(axis = 0)\n",
    "df2018_GPA[df2018_GPA > 0].max(axis = 0)"
   ]
  },
  {
   "cell_type": "code",
   "execution_count": 237,
   "metadata": {},
   "outputs": [
    {
     "data": {
      "application/vnd.plotly.v1+json": {
       "data": [
        {
         "marker": {
          "color": "rgba(255, 153, 51, 0.6)",
          "line": {
           "color": "rgba(255, 153, 51, 1.0)",
           "width": 1
          }
         },
         "name": "JHA ABHISHEK SHASHINATH",
         "orientation": "v",
         "text": "",
         "type": "bar",
         "x": [
          "M3-TH",
          "DIS-TH",
          "OOPM-TH",
          "ECCF-TH",
          "DS-TH",
          "DLDA-TH",
          "M4-TH",
          "A0A-TH",
          "COA-TH",
          "DBMS-TH",
          "TCS-TH",
          "CG-TH",
          "MP-TH",
          "OS-TH",
          "SOAD-TH",
          "SPCC-TH",
          "SE-TH",
          "SS-TH",
          "MCC-TH"
         ],
         "y": [
          38,
          51,
          52,
          37,
          52,
          42,
          58,
          58,
          48,
          55,
          57,
          45,
          54,
          54,
          44,
          55,
          51,
          54,
          55
         ]
        }
       ],
       "layout": {
        "legend": {
         "bgcolor": "#F5F6F9",
         "font": {
          "color": "#4D5663"
         }
        },
        "paper_bgcolor": "#F5F6F9",
        "plot_bgcolor": "#F5F6F9",
        "titlefont": {
         "color": "#4D5663"
        },
        "xaxis1": {
         "gridcolor": "#E1E5ED",
         "showgrid": true,
         "tickfont": {
          "color": "#4D5663"
         },
         "title": "",
         "titlefont": {
          "color": "#4D5663"
         },
         "zerolinecolor": "#E1E5ED"
        },
        "yaxis1": {
         "gridcolor": "#E1E5ED",
         "showgrid": true,
         "tickfont": {
          "color": "#4D5663"
         },
         "title": "",
         "titlefont": {
          "color": "#4D5663"
         },
         "zerolinecolor": "#E1E5ED"
        }
       }
      },
      "text/html": [
       "<div id=\"40a22c00-2255-4708-9615-c37ef41f0587\" style=\"height: 525px; width: 100%;\" class=\"plotly-graph-div\"></div><script type=\"text/javascript\">require([\"plotly\"], function(Plotly) { window.PLOTLYENV=window.PLOTLYENV || {};window.PLOTLYENV.BASE_URL=\"https://plot.ly\";Plotly.newPlot(\"40a22c00-2255-4708-9615-c37ef41f0587\", [{\"name\": \"JHA ABHISHEK SHASHINATH\", \"text\": \"\", \"y\": [38, 51, 52, 37, 52, 42, 58, 58, 48, 55, 57, 45, 54, 54, 44, 55, 51, 54, 55], \"marker\": {\"color\": \"rgba(255, 153, 51, 0.6)\", \"line\": {\"color\": \"rgba(255, 153, 51, 1.0)\", \"width\": 1}}, \"x\": [\"M3-TH\", \"DIS-TH\", \"OOPM-TH\", \"ECCF-TH\", \"DS-TH\", \"DLDA-TH\", \"M4-TH\", \"A0A-TH\", \"COA-TH\", \"DBMS-TH\", \"TCS-TH\", \"CG-TH\", \"MP-TH\", \"OS-TH\", \"SOAD-TH\", \"SPCC-TH\", \"SE-TH\", \"SS-TH\", \"MCC-TH\"], \"type\": \"bar\", \"orientation\": \"v\"}], {\"paper_bgcolor\": \"#F5F6F9\", \"plot_bgcolor\": \"#F5F6F9\", \"xaxis1\": {\"tickfont\": {\"color\": \"#4D5663\"}, \"title\": \"\", \"showgrid\": true, \"zerolinecolor\": \"#E1E5ED\", \"gridcolor\": \"#E1E5ED\", \"titlefont\": {\"color\": \"#4D5663\"}}, \"yaxis1\": {\"tickfont\": {\"color\": \"#4D5663\"}, \"title\": \"\", \"showgrid\": true, \"zerolinecolor\": \"#E1E5ED\", \"gridcolor\": \"#E1E5ED\", \"titlefont\": {\"color\": \"#4D5663\"}}, \"titlefont\": {\"color\": \"#4D5663\"}, \"legend\": {\"bgcolor\": \"#F5F6F9\", \"font\": {\"color\": \"#4D5663\"}}}, {\"linkText\": \"Export to plot.ly\", \"showLink\": true})});</script>"
      ],
      "text/vnd.plotly.v1+html": [
       "<div id=\"40a22c00-2255-4708-9615-c37ef41f0587\" style=\"height: 525px; width: 100%;\" class=\"plotly-graph-div\"></div><script type=\"text/javascript\">require([\"plotly\"], function(Plotly) { window.PLOTLYENV=window.PLOTLYENV || {};window.PLOTLYENV.BASE_URL=\"https://plot.ly\";Plotly.newPlot(\"40a22c00-2255-4708-9615-c37ef41f0587\", [{\"name\": \"JHA ABHISHEK SHASHINATH\", \"text\": \"\", \"y\": [38, 51, 52, 37, 52, 42, 58, 58, 48, 55, 57, 45, 54, 54, 44, 55, 51, 54, 55], \"marker\": {\"color\": \"rgba(255, 153, 51, 0.6)\", \"line\": {\"color\": \"rgba(255, 153, 51, 1.0)\", \"width\": 1}}, \"x\": [\"M3-TH\", \"DIS-TH\", \"OOPM-TH\", \"ECCF-TH\", \"DS-TH\", \"DLDA-TH\", \"M4-TH\", \"A0A-TH\", \"COA-TH\", \"DBMS-TH\", \"TCS-TH\", \"CG-TH\", \"MP-TH\", \"OS-TH\", \"SOAD-TH\", \"SPCC-TH\", \"SE-TH\", \"SS-TH\", \"MCC-TH\"], \"type\": \"bar\", \"orientation\": \"v\"}], {\"paper_bgcolor\": \"#F5F6F9\", \"plot_bgcolor\": \"#F5F6F9\", \"xaxis1\": {\"tickfont\": {\"color\": \"#4D5663\"}, \"title\": \"\", \"showgrid\": true, \"zerolinecolor\": \"#E1E5ED\", \"gridcolor\": \"#E1E5ED\", \"titlefont\": {\"color\": \"#4D5663\"}}, \"yaxis1\": {\"tickfont\": {\"color\": \"#4D5663\"}, \"title\": \"\", \"showgrid\": true, \"zerolinecolor\": \"#E1E5ED\", \"gridcolor\": \"#E1E5ED\", \"titlefont\": {\"color\": \"#4D5663\"}}, \"titlefont\": {\"color\": \"#4D5663\"}, \"legend\": {\"bgcolor\": \"#F5F6F9\", \"font\": {\"color\": \"#4D5663\"}}}, {\"linkText\": \"Export to plot.ly\", \"showLink\": true})});</script>"
      ]
     },
     "metadata": {},
     "output_type": "display_data"
    }
   ],
   "source": [
    "df2018_Theory = df2018_copy.filter(regex='TH')\n",
    "rowx = df2018_Theory[df2018_Theory.index == \"JHA ABHISHEK SHASHINATH\"]\n",
    "rowx.iloc[0].iplot(kind=\"bar\")"
   ]
  }
 ],
 "metadata": {
  "kernelspec": {
   "display_name": "Python 2",
   "language": "python",
   "name": "python2"
  },
  "language_info": {
   "codemirror_mode": {
    "name": "ipython",
    "version": 2
   },
   "file_extension": ".py",
   "mimetype": "text/x-python",
   "name": "python",
   "nbconvert_exporter": "python",
   "pygments_lexer": "ipython2",
   "version": "2.7.9"
  }
 },
 "nbformat": 4,
 "nbformat_minor": 2
}