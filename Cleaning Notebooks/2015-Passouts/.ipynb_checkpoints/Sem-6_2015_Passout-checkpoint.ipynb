{
 "cells": [
  {
   "cell_type": "code",
   "execution_count": 1,
   "metadata": {
    "collapsed": true
   },
   "outputs": [],
   "source": [
    "import numpy as np \n",
    "import pandas as pd \n",
    "import matplotlib.pyplot as plt \n",
    "% matplotlib inline"
   ]
  },
  {
   "cell_type": "code",
   "execution_count": 2,
   "metadata": {
    "collapsed": true
   },
   "outputs": [],
   "source": [
    "path = \"../../Data/Exam Data/2015/CMPN SEM-VI MAY14.xlsx\""
   ]
  },
  {
   "cell_type": "code",
   "execution_count": 3,
   "metadata": {
    "collapsed": true
   },
   "outputs": [],
   "source": [
    "sem_6_2015_df = pd.read_excel(path)"
   ]
  },
  {
   "cell_type": "code",
   "execution_count": 4,
   "metadata": {},
   "outputs": [
    {
     "name": "stdout",
     "output_type": "stream",
     "text": [
      "<class 'pandas.core.frame.DataFrame'>\n",
      "Float64Index: 164 entries, nan to nan\n",
      "Data columns (total 42 columns):\n",
      "EXAM SEAT NO.            161 non-null object\n",
      "NAME OF THE CANDIDATE    163 non-null object\n",
      "ACN                      164 non-null object\n",
      "Unnamed: 3               15 non-null object\n",
      "Unnamed: 4               164 non-null object\n",
      "Unnamed: 5               19 non-null object\n",
      "Unnamed: 6               164 non-null object\n",
      "Unnamed: 7               19 non-null object\n",
      "SPCC                     164 non-null object\n",
      "Unnamed: 9               14 non-null object\n",
      "Unnamed: 10              164 non-null object\n",
      "Unnamed: 11              19 non-null object\n",
      "Unnamed: 12              164 non-null object\n",
      "Unnamed: 13              19 non-null object\n",
      "OOSE                     164 non-null object\n",
      "Unnamed: 15              15 non-null object\n",
      "Unnamed: 16              164 non-null object\n",
      "Unnamed: 17              19 non-null object\n",
      "Unnamed: 18              164 non-null object\n",
      "Unnamed: 19              19 non-null object\n",
      "AMP                      164 non-null object\n",
      "Unnamed: 21              12 non-null object\n",
      "Unnamed: 22              164 non-null object\n",
      "Unnamed: 23              19 non-null object\n",
      "Unnamed: 24              164 non-null object\n",
      "Unnamed: 25              19 non-null object\n",
      "DWM                      164 non-null object\n",
      "Unnamed: 27              16 non-null object\n",
      "Unnamed: 28              164 non-null object\n",
      "Unnamed: 29              19 non-null object\n",
      "Unnamed: 30              164 non-null object\n",
      "Unnamed: 31              19 non-null object\n",
      "SEMR                     164 non-null object\n",
      "Unnamed: 33              19 non-null object\n",
      "Unnamed: 34              164 non-null object\n",
      "Unnamed: 35              19 non-null object\n",
      "TOT VI                   162 non-null object\n",
      "TOT V                    162 non-null object\n",
      "GNT                      162 non-null float64\n",
      "REMARK                   161 non-null object\n",
      "CLASS                    161 non-null object\n",
      "Unnamed: 41              17 non-null object\n",
      "dtypes: float64(1), object(41)\n",
      "memory usage: 55.1+ KB\n"
     ]
    }
   ],
   "source": [
    "sem_6_2015_df.info()"
   ]
  },
  {
   "cell_type": "code",
   "execution_count": 5,
   "metadata": {
    "collapsed": true
   },
   "outputs": [],
   "source": [
    "#removed the rows where seatnumber was not present\n",
    "sem_6_2015_df.dropna(subset=['EXAM SEAT NO.'],inplace=True)"
   ]
  },
  {
   "cell_type": "code",
   "execution_count": 6,
   "metadata": {
    "collapsed": true
   },
   "outputs": [],
   "source": [
    "#removed the rows where all the values were NaN\n",
    "sem_6_2015_df.dropna(axis=0, how='all',inplace=True)"
   ]
  },
  {
   "cell_type": "code",
   "execution_count": 7,
   "metadata": {},
   "outputs": [
    {
     "data": {
      "text/html": [
       "<div>\n",
       "<style scoped>\n",
       "    .dataframe tbody tr th:only-of-type {\n",
       "        vertical-align: middle;\n",
       "    }\n",
       "\n",
       "    .dataframe tbody tr th {\n",
       "        vertical-align: top;\n",
       "    }\n",
       "\n",
       "    .dataframe thead th {\n",
       "        text-align: right;\n",
       "    }\n",
       "</style>\n",
       "<table border=\"1\" class=\"dataframe\">\n",
       "  <thead>\n",
       "    <tr style=\"text-align: right;\">\n",
       "      <th></th>\n",
       "      <th>EXAM SEAT NO.</th>\n",
       "      <th>NAME OF THE CANDIDATE</th>\n",
       "      <th>ACN</th>\n",
       "      <th>Unnamed: 3</th>\n",
       "      <th>Unnamed: 4</th>\n",
       "      <th>Unnamed: 5</th>\n",
       "      <th>Unnamed: 6</th>\n",
       "      <th>Unnamed: 7</th>\n",
       "      <th>SPCC</th>\n",
       "      <th>Unnamed: 9</th>\n",
       "      <th>...</th>\n",
       "      <th>SEMR</th>\n",
       "      <th>Unnamed: 33</th>\n",
       "      <th>Unnamed: 34</th>\n",
       "      <th>Unnamed: 35</th>\n",
       "      <th>TOT VI</th>\n",
       "      <th>TOT V</th>\n",
       "      <th>GNT</th>\n",
       "      <th>REMARK</th>\n",
       "      <th>CLASS</th>\n",
       "      <th>Unnamed: 41</th>\n",
       "    </tr>\n",
       "    <tr>\n",
       "      <th>EXAM SEAT NO.</th>\n",
       "      <th></th>\n",
       "      <th></th>\n",
       "      <th></th>\n",
       "      <th></th>\n",
       "      <th></th>\n",
       "      <th></th>\n",
       "      <th></th>\n",
       "      <th></th>\n",
       "      <th></th>\n",
       "      <th></th>\n",
       "      <th></th>\n",
       "      <th></th>\n",
       "      <th></th>\n",
       "      <th></th>\n",
       "      <th></th>\n",
       "      <th></th>\n",
       "      <th></th>\n",
       "      <th></th>\n",
       "      <th></th>\n",
       "      <th></th>\n",
       "      <th></th>\n",
       "    </tr>\n",
       "  </thead>\n",
       "  <tbody>\n",
       "    <tr>\n",
       "      <th>146201</th>\n",
       "      <td>146201</td>\n",
       "      <td>ADMANE PRADEEP VIDNYANRAO</td>\n",
       "      <td>41</td>\n",
       "      <td>NaN</td>\n",
       "      <td>20</td>\n",
       "      <td>NaN</td>\n",
       "      <td>44</td>\n",
       "      <td>NaN</td>\n",
       "      <td>60</td>\n",
       "      <td>NaN</td>\n",
       "      <td>...</td>\n",
       "      <td>21</td>\n",
       "      <td>NaN</td>\n",
       "      <td>20</td>\n",
       "      <td>NaN</td>\n",
       "      <td>506</td>\n",
       "      <td>470*+</td>\n",
       "      <td>976.0</td>\n",
       "      <td>PASS</td>\n",
       "      <td>II</td>\n",
       "      <td>Nine Hundred Seventy Six</td>\n",
       "    </tr>\n",
       "  </tbody>\n",
       "</table>\n",
       "<p>1 rows × 42 columns</p>\n",
       "</div>"
      ],
      "text/plain": [
       "              EXAM SEAT NO.       NAME OF THE CANDIDATE ACN Unnamed: 3  \\\n",
       "EXAM SEAT NO.                                                            \n",
       "146201               146201  ADMANE PRADEEP VIDNYANRAO   41        NaN   \n",
       "\n",
       "              Unnamed: 4 Unnamed: 5 Unnamed: 6 Unnamed: 7 SPCC Unnamed: 9  \\\n",
       "EXAM SEAT NO.                                                               \n",
       "146201                20        NaN         44        NaN   60        NaN   \n",
       "\n",
       "                         ...             SEMR Unnamed: 33 Unnamed: 34  \\\n",
       "EXAM SEAT NO.            ...                                            \n",
       "146201                   ...               21         NaN          20   \n",
       "\n",
       "              Unnamed: 35 TOT VI  TOT V    GNT REMARK CLASS  \\\n",
       "EXAM SEAT NO.                                                 \n",
       "146201                NaN    506  470*+  976.0   PASS    II   \n",
       "\n",
       "                             Unnamed: 41  \n",
       "EXAM SEAT NO.                             \n",
       "146201         Nine Hundred Seventy Six   \n",
       "\n",
       "[1 rows x 42 columns]"
      ]
     },
     "execution_count": 7,
     "metadata": {},
     "output_type": "execute_result"
    }
   ],
   "source": [
    "#made seatnumber as the index of the dataframe as there was no index.\n",
    "sem_6_2015_df.index = sem_6_2015_df['EXAM SEAT NO.']\n",
    "sem_6_2015_df.head(1)"
   ]
  },
  {
   "cell_type": "code",
   "execution_count": 8,
   "metadata": {
    "collapsed": true
   },
   "outputs": [],
   "source": [
    "sem_6_2015_df.columns.values[[3,4,5,6,7]] = [\"ACN_Theory_Grade\", \"ACN_TW\", \"ACN_TW_Grade\", \"ACN_P&O\", \"ACN_P&O_Grade\"]\n",
    "sem_6_2015_df.columns.values[[9,10,11,12,13]] = [\"SPCC_Theory_Grade\", \"SPCC_TW\", \"SPCC_TW_Grade\", \"SPCC_P&O\", \"SPCC_P&O_Grade\"]\n",
    "sem_6_2015_df.columns.values[[15,16,17,18,19]] = [\"OOSE_Theory_Grade\", \"OOSE_TW\", \"OOSE_TW_Grade\", \"OOSE_P&O\", \"OOSE_P&O_Grade\"]\n"
   ]
  },
  {
   "cell_type": "code",
   "execution_count": 9,
   "metadata": {
    "collapsed": true
   },
   "outputs": [],
   "source": [
    "sem_6_2015_df.columns.values[[21,22,23,24,25]] = [\"AMP_Theory_Grade\", \"AMP_TW\", \"AMP_TW_Grade\", \"AMP_P&O\", \"AMP_P&O_Grade\"]\n",
    "sem_6_2015_df.columns.values[[27,28,29,30,31]] = [\"DWM_Theory_Grade\", \"DWM_TW\", \"DWM_TW_Grade\", \"DWM_P&O\", \"DWM_P&O_Grade\"]\n"
   ]
  },
  {
   "cell_type": "code",
   "execution_count": null,
   "metadata": {
    "collapsed": true
   },
   "outputs": [],
   "source": [
    "sem_6_2015_df.columns.values[[33,34,35]] = [ \"SEMR_TW_Grade\", \"SEMR_P&O\", \"SEMR_P&O_Grade\"]\n"
   ]
  },
  {
   "cell_type": "code",
   "execution_count": null,
   "metadata": {
    "collapsed": true
   },
   "outputs": [],
   "source": [
    "sem_6_2015_df.columns.values[41] = [\"Marks_in_words\"]\n",
    "sem_6_2015_df.head()"
   ]
  },
  {
   "cell_type": "code",
   "execution_count": null,
   "metadata": {
    "collapsed": true
   },
   "outputs": [],
   "source": [
    "sem_6_2015_df['ACN'] = pd.to_numeric(sem_6_2015_df['ACN'], errors='coerce')\n",
    "sem_6_2015_df['ACN_TW'] = pd.to_numeric(sem_6_2015_df['ACN_TW'], errors='coerce')\n",
    "sem_6_2015_df['ACN_P&O'] = pd.to_numeric(sem_6_2015_df['ACN_P&O'], errors='coerce')\n",
    "\n",
    "sem_6_2015_df['SPCC'] = pd.to_numeric(sem_6_2015_df['SPCC'], errors='coerce')\n",
    "sem_6_2015_df['SPCC_TW'] = pd.to_numeric(sem_6_2015_df['SPCC_TW'], errors='coerce')\n",
    "sem_6_2015_df['SPCC_P&O'] = pd.to_numeric(sem_6_2015_df['SPCC_P&O'], errors='coerce')\n",
    "\n",
    "\n",
    "sem_6_2015_df['OOSE'] = pd.to_numeric(sem_6_2015_df['OOSE'], errors='coerce')\n",
    "sem_6_2015_df['OOSE_TW'] = pd.to_numeric(sem_6_2015_df['OOSE_TW'], errors='coerce')\n",
    "sem_6_2015_df['OOSE_P&O'] = pd.to_numeric(sem_6_2015_df['OOSE_P&O'], errors='coerce')\n",
    "\n"
   ]
  },
  {
   "cell_type": "code",
   "execution_count": null,
   "metadata": {
    "collapsed": true
   },
   "outputs": [],
   "source": [
    "sem_6_2015_df['AMP'] = pd.to_numeric(sem_6_2015_df['AMP'], errors='coerce')\n",
    "sem_6_2015_df['AMP_TW'] = pd.to_numeric(sem_6_2015_df['AMP_TW'], errors='coerce')\n",
    "sem_6_2015_df['AMP_P&O'] = pd.to_numeric(sem_6_2015_df['AMP_P&O'], errors='coerce')\n",
    "\n",
    "sem_6_2015_df['DWM'] = pd.to_numeric(sem_6_2015_df['DWM'], errors='coerce')\n",
    "sem_6_2015_df['DWM_TW'] = pd.to_numeric(sem_6_2015_df['DWM_TW'], errors='coerce')\n",
    "sem_6_2015_df['DWM_P&O'] = pd.to_numeric(sem_6_2015_df['DWM_P&O'], errors='coerce')\n",
    "\n",
    "sem_6_2015_df['SEMR'] = pd.to_numeric(sem_6_2015_df['SEMR'], errors='coerce')\n",
    "sem_6_2015_df['SEMR_P&O'] = pd.to_numeric(sem_6_2015_df['SEMR_P&O'], errors='coerce')\n",
    "\n",
    "sem_6_2015_df['TOT VI'] = pd.to_numeric(sem_6_2015_df['TOT VI'], errors='coerce')\n",
    "sem_6_2015_df['TOT V'] = pd.to_numeric(sem_6_2015_df['TOT V'], errors='coerce')\n",
    "sem_6_2015_df['GNT'] = pd.to_numeric(sem_6_2015_df['GNT'], errors='coerce')"
   ]
  },
  {
   "cell_type": "code",
   "execution_count": null,
   "metadata": {
    "collapsed": true
   },
   "outputs": [],
   "source": [
    "sem_6_2015_df.describe()"
   ]
  },
  {
   "cell_type": "code",
   "execution_count": null,
   "metadata": {
    "collapsed": true
   },
   "outputs": [],
   "source": [
    "sem_6_2015_df.head()"
   ]
  },
  {
   "cell_type": "code",
   "execution_count": null,
   "metadata": {
    "collapsed": true
   },
   "outputs": [],
   "source": [
    "plt.hist(sem_6_2015_df.REMARKS)\n",
    "plt.show()"
   ]
  },
  {
   "cell_type": "code",
   "execution_count": null,
   "metadata": {
    "collapsed": true
   },
   "outputs": [],
   "source": [
    "Writer = pd.Excel.Writer('Sem-6_2015_Passout_cleaned.xlsx')"
   ]
  },
  {
   "cell_type": "code",
   "execution_count": null,
   "metadata": {
    "collapsed": true
   },
   "outputs": [],
   "source": [
    "sem_6_2015_df.to_excel(writer,\"Sem-6_2015_Passout_cleaned\")\n",
    "writer.save()"
   ]
  }
 ],
 "metadata": {
  "kernelspec": {
   "display_name": "Python 2",
   "language": "python",
   "name": "python2"
  },
  "language_info": {
   "codemirror_mode": {
    "name": "ipython",
    "version": 2
   },
   "file_extension": ".py",
   "mimetype": "text/x-python",
   "name": "python",
   "nbconvert_exporter": "python",
   "pygments_lexer": "ipython2",
   "version": "2.7.13"
  }
 },
 "nbformat": 4,
 "nbformat_minor": 2
}
