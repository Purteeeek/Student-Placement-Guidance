{
 "cells": [
  {
   "cell_type": "code",
   "execution_count": 1,
   "metadata": {
    "collapsed": true
   },
   "outputs": [],
   "source": [
    "# Data Analysis and Wrangling  \n",
    "import numpy as np \n",
    "import pandas as pd \n",
    "import glob\n",
    "\n",
    "# Visualization \n",
    "import seaborn as sns \n",
    "import matplotlib.pyplot as plt \n",
    "%matplotlib inline \n"
   ]
  },
  {
   "cell_type": "code",
   "execution_count": 2,
   "metadata": {
    "collapsed": true
   },
   "outputs": [],
   "source": [
    "path1 = \"/Users/prashant/Downloads/Student-Placement-Guidance/Exploratory Data Analysis /Sem3Dec12.xlsx\"\n",
    "path2 = \"/Users/prashant/Downloads/Student-Placement-Guidance/Exploratory Data Analysis /2015.xlsx\""
   ]
  },
  {
   "cell_type": "code",
   "execution_count": 3,
   "metadata": {},
   "outputs": [
    {
     "data": {
      "text/html": [
       "<div>\n",
       "<style>\n",
       "    .dataframe thead tr:only-child th {\n",
       "        text-align: right;\n",
       "    }\n",
       "\n",
       "    .dataframe thead th {\n",
       "        text-align: left;\n",
       "    }\n",
       "\n",
       "    .dataframe tbody tr th {\n",
       "        vertical-align: top;\n",
       "    }\n",
       "</style>\n",
       "<table border=\"1\" class=\"dataframe\">\n",
       "  <thead>\n",
       "    <tr style=\"text-align: right;\">\n",
       "      <th></th>\n",
       "      <th>NAME</th>\n",
       "      <th>Company</th>\n",
       "    </tr>\n",
       "  </thead>\n",
       "  <tbody>\n",
       "    <tr>\n",
       "      <th>0</th>\n",
       "      <td>AMRE PRITAM</td>\n",
       "      <td>Vistaar</td>\n",
       "    </tr>\n",
       "    <tr>\n",
       "      <th>1</th>\n",
       "      <td>ASRANI BHARTI LACHMAN</td>\n",
       "      <td>Tech Mahindra</td>\n",
       "    </tr>\n",
       "    <tr>\n",
       "      <th>2</th>\n",
       "      <td>BAGWE KARAN VINAY</td>\n",
       "      <td>Infosys</td>\n",
       "    </tr>\n",
       "    <tr>\n",
       "      <th>3</th>\n",
       "      <td>BANDIVADEKAR RUTALI DILIP</td>\n",
       "      <td>Infosys</td>\n",
       "    </tr>\n",
       "    <tr>\n",
       "      <th>4</th>\n",
       "      <td>BELWALKAR MANALI C</td>\n",
       "      <td>Bista Solutions</td>\n",
       "    </tr>\n",
       "  </tbody>\n",
       "</table>\n",
       "</div>"
      ],
      "text/plain": [
       "                        NAME          Company\n",
       "0               AMRE PRITAM           Vistaar\n",
       "1      ASRANI BHARTI LACHMAN    Tech Mahindra\n",
       "2          BAGWE KARAN VINAY          Infosys\n",
       "3  BANDIVADEKAR RUTALI DILIP          Infosys\n",
       "4         BELWALKAR MANALI C  Bista Solutions"
      ]
     },
     "execution_count": 3,
     "metadata": {},
     "output_type": "execute_result"
    }
   ],
   "source": [
    "sem_3_2015_df = pd.read_excel(path1)\n",
    "results = pd.read_excel(path2)\n",
    "results.head()"
   ]
  },
  {
   "cell_type": "code",
   "execution_count": 4,
   "metadata": {
    "collapsed": true
   },
   "outputs": [],
   "source": [
    "sem_3_2015_df.index = sem_3_2015_df['Seat Number']\n",
    "#sem_3_2015_df.head()"
   ]
  },
  {
   "cell_type": "code",
   "execution_count": 5,
   "metadata": {},
   "outputs": [
    {
     "data": {
      "text/html": [
       "<div>\n",
       "<style>\n",
       "    .dataframe thead tr:only-child th {\n",
       "        text-align: right;\n",
       "    }\n",
       "\n",
       "    .dataframe thead th {\n",
       "        text-align: left;\n",
       "    }\n",
       "\n",
       "    .dataframe tbody tr th {\n",
       "        vertical-align: top;\n",
       "    }\n",
       "</style>\n",
       "<table border=\"1\" class=\"dataframe\">\n",
       "  <thead>\n",
       "    <tr style=\"text-align: right;\">\n",
       "      <th></th>\n",
       "      <th>Seat Number</th>\n",
       "      <th>NAME</th>\n",
       "      <th>Total</th>\n",
       "      <th>Remarks</th>\n",
       "    </tr>\n",
       "    <tr>\n",
       "      <th>Seat Number</th>\n",
       "      <th></th>\n",
       "      <th></th>\n",
       "      <th></th>\n",
       "      <th></th>\n",
       "    </tr>\n",
       "  </thead>\n",
       "  <tbody>\n",
       "    <tr>\n",
       "      <th>223201</th>\n",
       "      <td>223201</td>\n",
       "      <td>AMIN RISHITA VIJAYKUMAR</td>\n",
       "      <td>411</td>\n",
       "      <td>FAIL</td>\n",
       "    </tr>\n",
       "    <tr>\n",
       "      <th>223202</th>\n",
       "      <td>223202</td>\n",
       "      <td>AMRE PRITAM ANILKUMAR</td>\n",
       "      <td>566</td>\n",
       "      <td>PASS</td>\n",
       "    </tr>\n",
       "    <tr>\n",
       "      <th>223203</th>\n",
       "      <td>223203</td>\n",
       "      <td>ANSAN SUNNY SALAMA</td>\n",
       "      <td>376</td>\n",
       "      <td>FAIL</td>\n",
       "    </tr>\n",
       "    <tr>\n",
       "      <th>223204</th>\n",
       "      <td>223204</td>\n",
       "      <td>ASRANI BHARTI LACHMAN</td>\n",
       "      <td>529</td>\n",
       "      <td>PASS</td>\n",
       "    </tr>\n",
       "    <tr>\n",
       "      <th>223205</th>\n",
       "      <td>223205</td>\n",
       "      <td>BADE AMIT KERAMBA</td>\n",
       "      <td>421</td>\n",
       "      <td>FAIL</td>\n",
       "    </tr>\n",
       "  </tbody>\n",
       "</table>\n",
       "</div>"
      ],
      "text/plain": [
       "            Seat Number                     NAME  Total Remarks\n",
       "Seat Number                                                    \n",
       "223201           223201  AMIN RISHITA VIJAYKUMAR    411    FAIL\n",
       "223202           223202    AMRE PRITAM ANILKUMAR    566    PASS\n",
       "223203           223203       ANSAN SUNNY SALAMA    376    FAIL\n",
       "223204           223204    ASRANI BHARTI LACHMAN    529    PASS\n",
       "223205           223205        BADE AMIT KERAMBA    421    FAIL"
      ]
     },
     "execution_count": 5,
     "metadata": {},
     "output_type": "execute_result"
    }
   ],
   "source": [
    "# Removing all unecessary columns \n",
    "sem_3_2015_df.drop(sem_3_2015_df.iloc[:,2:17], axis=1, inplace=True)\n",
    "sem_3_2015_df.head()"
   ]
  },
  {
   "cell_type": "code",
   "execution_count": 6,
   "metadata": {},
   "outputs": [
    {
     "data": {
      "text/html": [
       "<div>\n",
       "<style>\n",
       "    .dataframe thead tr:only-child th {\n",
       "        text-align: right;\n",
       "    }\n",
       "\n",
       "    .dataframe thead th {\n",
       "        text-align: left;\n",
       "    }\n",
       "\n",
       "    .dataframe tbody tr th {\n",
       "        vertical-align: top;\n",
       "    }\n",
       "</style>\n",
       "<table border=\"1\" class=\"dataframe\">\n",
       "  <thead>\n",
       "    <tr style=\"text-align: right;\">\n",
       "      <th></th>\n",
       "      <th>Seat Number</th>\n",
       "      <th>NAME</th>\n",
       "      <th>Total</th>\n",
       "      <th>Remarks</th>\n",
       "      <th>Company</th>\n",
       "    </tr>\n",
       "  </thead>\n",
       "  <tbody>\n",
       "    <tr>\n",
       "      <th>0</th>\n",
       "      <td>223201</td>\n",
       "      <td>AMIN RISHITA VIJAYKUMAR</td>\n",
       "      <td>411</td>\n",
       "      <td>FAIL</td>\n",
       "      <td>NaN</td>\n",
       "    </tr>\n",
       "    <tr>\n",
       "      <th>1</th>\n",
       "      <td>223202</td>\n",
       "      <td>AMRE PRITAM ANILKUMAR</td>\n",
       "      <td>566</td>\n",
       "      <td>PASS</td>\n",
       "      <td>NaN</td>\n",
       "    </tr>\n",
       "    <tr>\n",
       "      <th>2</th>\n",
       "      <td>223203</td>\n",
       "      <td>ANSAN SUNNY SALAMA</td>\n",
       "      <td>376</td>\n",
       "      <td>FAIL</td>\n",
       "      <td>NaN</td>\n",
       "    </tr>\n",
       "    <tr>\n",
       "      <th>3</th>\n",
       "      <td>223204</td>\n",
       "      <td>ASRANI BHARTI LACHMAN</td>\n",
       "      <td>529</td>\n",
       "      <td>PASS</td>\n",
       "      <td>Tech Mahindra</td>\n",
       "    </tr>\n",
       "    <tr>\n",
       "      <th>4</th>\n",
       "      <td>223205</td>\n",
       "      <td>BADE AMIT KERAMBA</td>\n",
       "      <td>421</td>\n",
       "      <td>FAIL</td>\n",
       "      <td>NaN</td>\n",
       "    </tr>\n",
       "    <tr>\n",
       "      <th>5</th>\n",
       "      <td>223206</td>\n",
       "      <td>BAGWE KARAN VINAY</td>\n",
       "      <td>553</td>\n",
       "      <td>PASS</td>\n",
       "      <td>Infosys</td>\n",
       "    </tr>\n",
       "    <tr>\n",
       "      <th>6</th>\n",
       "      <td>223207</td>\n",
       "      <td>BANDIVADEKAR RUTALI DILIP</td>\n",
       "      <td>616</td>\n",
       "      <td>PASS</td>\n",
       "      <td>Infosys</td>\n",
       "    </tr>\n",
       "    <tr>\n",
       "      <th>7</th>\n",
       "      <td>223208</td>\n",
       "      <td>BARBHAYA RISHI DIVYESH</td>\n",
       "      <td>412</td>\n",
       "      <td>FAIL</td>\n",
       "      <td>NaN</td>\n",
       "    </tr>\n",
       "    <tr>\n",
       "      <th>8</th>\n",
       "      <td>223209</td>\n",
       "      <td>BELWALKAR MANALI CHANDRAKANT</td>\n",
       "      <td>500</td>\n",
       "      <td>PASS</td>\n",
       "      <td>NaN</td>\n",
       "    </tr>\n",
       "    <tr>\n",
       "      <th>9</th>\n",
       "      <td>223210</td>\n",
       "      <td>BHAGAT DOLLY DEEPAK</td>\n",
       "      <td>489</td>\n",
       "      <td>FAIL</td>\n",
       "      <td>NaN</td>\n",
       "    </tr>\n",
       "  </tbody>\n",
       "</table>\n",
       "</div>"
      ],
      "text/plain": [
       "  Seat Number                          NAME  Total Remarks        Company\n",
       "0      223201       AMIN RISHITA VIJAYKUMAR    411    FAIL            NaN\n",
       "1      223202         AMRE PRITAM ANILKUMAR    566    PASS            NaN\n",
       "2      223203            ANSAN SUNNY SALAMA    376    FAIL            NaN\n",
       "3      223204         ASRANI BHARTI LACHMAN    529    PASS  Tech Mahindra\n",
       "4      223205             BADE AMIT KERAMBA    421    FAIL            NaN\n",
       "5      223206             BAGWE KARAN VINAY    553    PASS        Infosys\n",
       "6      223207     BANDIVADEKAR RUTALI DILIP    616    PASS        Infosys\n",
       "7      223208        BARBHAYA RISHI DIVYESH    412    FAIL            NaN\n",
       "8      223209  BELWALKAR MANALI CHANDRAKANT    500    PASS            NaN\n",
       "9      223210           BHAGAT DOLLY DEEPAK    489    FAIL            NaN"
      ]
     },
     "execution_count": 6,
     "metadata": {},
     "output_type": "execute_result"
    }
   ],
   "source": [
    "# Merge two excel sheets with NAME as a common column\n",
    "sem_3_2015_merge = pd.merge(sem_3_2015_df, results, how='left')\n",
    "sem_3_2015_merge.head(10)"
   ]
  },
  {
   "cell_type": "code",
   "execution_count": 7,
   "metadata": {},
   "outputs": [
    {
     "name": "stderr",
     "output_type": "stream",
     "text": [
      "/anaconda/lib/python2.7/site-packages/pandas/core/indexing.py:179: SettingWithCopyWarning: \n",
      "A value is trying to be set on a copy of a slice from a DataFrame\n",
      "\n",
      "See the caveats in the documentation: http://pandas.pydata.org/pandas-docs/stable/indexing.html#indexing-view-versus-copy\n",
      "  self._setitem_with_indexer(indexer, value)\n"
     ]
    },
    {
     "data": {
      "text/html": [
       "<div>\n",
       "<style>\n",
       "    .dataframe thead tr:only-child th {\n",
       "        text-align: right;\n",
       "    }\n",
       "\n",
       "    .dataframe thead th {\n",
       "        text-align: left;\n",
       "    }\n",
       "\n",
       "    .dataframe tbody tr th {\n",
       "        vertical-align: top;\n",
       "    }\n",
       "</style>\n",
       "<table border=\"1\" class=\"dataframe\">\n",
       "  <thead>\n",
       "    <tr style=\"text-align: right;\">\n",
       "      <th></th>\n",
       "      <th>Seat Number</th>\n",
       "      <th>NAME</th>\n",
       "      <th>Total</th>\n",
       "      <th>Remarks</th>\n",
       "      <th>Company</th>\n",
       "    </tr>\n",
       "  </thead>\n",
       "  <tbody>\n",
       "    <tr>\n",
       "      <th>0</th>\n",
       "      <td>223201</td>\n",
       "      <td>AMIN RISHITA VIJAYKUMAR</td>\n",
       "      <td>411</td>\n",
       "      <td>FAIL</td>\n",
       "      <td>0</td>\n",
       "    </tr>\n",
       "    <tr>\n",
       "      <th>1</th>\n",
       "      <td>223202</td>\n",
       "      <td>AMRE PRITAM ANILKUMAR</td>\n",
       "      <td>566</td>\n",
       "      <td>PASS</td>\n",
       "      <td>0</td>\n",
       "    </tr>\n",
       "    <tr>\n",
       "      <th>2</th>\n",
       "      <td>223203</td>\n",
       "      <td>ANSAN SUNNY SALAMA</td>\n",
       "      <td>376</td>\n",
       "      <td>FAIL</td>\n",
       "      <td>0</td>\n",
       "    </tr>\n",
       "    <tr>\n",
       "      <th>3</th>\n",
       "      <td>223204</td>\n",
       "      <td>ASRANI BHARTI LACHMAN</td>\n",
       "      <td>529</td>\n",
       "      <td>PASS</td>\n",
       "      <td>1</td>\n",
       "    </tr>\n",
       "    <tr>\n",
       "      <th>4</th>\n",
       "      <td>223205</td>\n",
       "      <td>BADE AMIT KERAMBA</td>\n",
       "      <td>421</td>\n",
       "      <td>FAIL</td>\n",
       "      <td>0</td>\n",
       "    </tr>\n",
       "  </tbody>\n",
       "</table>\n",
       "</div>"
      ],
      "text/plain": [
       "  Seat Number                     NAME  Total Remarks Company\n",
       "0      223201  AMIN RISHITA VIJAYKUMAR    411    FAIL       0\n",
       "1      223202    AMRE PRITAM ANILKUMAR    566    PASS       0\n",
       "2      223203       ANSAN SUNNY SALAMA    376    FAIL       0\n",
       "3      223204    ASRANI BHARTI LACHMAN    529    PASS       1\n",
       "4      223205        BADE AMIT KERAMBA    421    FAIL       0"
      ]
     },
     "execution_count": 7,
     "metadata": {},
     "output_type": "execute_result"
    }
   ],
   "source": [
    "# Replacing placement with binary values \n",
    "\n",
    "sem_3_2015_merge['Company'].loc[~sem_3_2015_merge['Company'].isnull()] = 1\n",
    "sem_3_2015_merge['Company'].loc[sem_3_2015_merge['Company'].isnull()] = 0\n",
    "\n",
    "sem_3_2015_merge.head()"
   ]
  },
  {
   "cell_type": "code",
   "execution_count": 8,
   "metadata": {},
   "outputs": [
    {
     "data": {
      "text/plain": [
       "<seaborn.axisgrid.FacetGrid at 0x11bcedb50>"
      ]
     },
     "execution_count": 8,
     "metadata": {},
     "output_type": "execute_result"
    },
    {
     "data": {
      "image/png": "[encoded data removed]",
      "text/plain": [
       "<matplotlib.figure.Figure at 0x110abb590>"
      ]
     },
     "metadata": {},
     "output_type": "display_data"
    }
   ],
   "source": [
    "g = sns.FacetGrid(sem_3_2015_merge, col='Remarks')\n",
    "g.map(plt.hist, 'Company', bins=5)"
   ]
  },
  {
   "cell_type": "markdown",
   "metadata": {
    "collapsed": true
   },
   "source": [
    "A simple histogram which correlates Remarks with placement of a student. From the graph we can conclude that **unplaced student contains high percentage of FAIL students**. This validates our assumption that failing of a student in certain exam has direct impact on his placement. "
   ]
  },
  {
   "cell_type": "code",
   "execution_count": 9,
   "metadata": {},
   "outputs": [
    {
     "data": {
      "text/plain": [
       "<seaborn.axisgrid.FacetGrid at 0x11bcedd90>"
      ]
     },
     "execution_count": 9,
     "metadata": {},
     "output_type": "execute_result"
    },
    {
     "data": {
      "image/png": "[encoded data removed]",
      "text/plain": [
       "<matplotlib.figure.Figure at 0x11bb66c10>"
      ]
     },
     "metadata": {},
     "output_type": "display_data"
    }
   ],
   "source": [
    "g = sns.FacetGrid(sem_3_2015_merge, col='Remarks')\n",
    "g.map(plt.hist, 'Total', bins = 20)"
   ]
  },
  {
   "cell_type": "markdown",
   "metadata": {},
   "source": [
    "A histogram compairing Total marks with Remarks which shows there is discrepancy in the data. Because the passing student and failing student range coincide with each other. Hence, **total marks cannot be a good parameter for training our model**"
   ]
  },
  {
   "cell_type": "code",
   "execution_count": 10,
   "metadata": {
    "scrolled": false
   },
   "outputs": [
    {
     "data": {
      "text/plain": [
       "<seaborn.axisgrid.FacetGrid at 0x11ef318d0>"
      ]
     },
     "execution_count": 10,
     "metadata": {},
     "output_type": "execute_result"
    },
    {
     "data": {
      "image/png": "[encoded data removed]",
      "text/plain": [
       "<matplotlib.figure.Figure at 0x11eee9c90>"
      ]
     },
     "metadata": {},
     "output_type": "display_data"
    }
   ],
   "source": [
    "#for dataset in sem_3_2015_merge:\n",
    "    #dataset['Remarks'] = dataset['Remarks'].map({'FAIL':0, 'PASS':1, 'ABSENT':2}).astype(int)\n",
    "\n",
    "sns.lmplot(y='Company', x='Total', data=sem_3_2015_merge)"
   ]
  },
  {
   "cell_type": "markdown",
   "metadata": {},
   "source": [
    "Another plot which proves our earlier hypothesis as true. This graph proves there is no concerete correlation between total marks and placement of a student. "
   ]
  },
  {
   "cell_type": "code",
   "execution_count": null,
   "metadata": {
    "collapsed": true
   },
   "outputs": [],
   "source": []
  }
 ],
 "metadata": {
  "kernelspec": {
   "display_name": "Python 2",
   "language": "python",
   "name": "python2"
  },
  "language_info": {
   "codemirror_mode": {
    "name": "ipython",
    "version": 2
   },
   "file_extension": ".py",
   "mimetype": "text/x-python",
   "name": "python",
   "nbconvert_exporter": "python",
   "pygments_lexer": "ipython2",
   "version": "2.7.9"
  }
 },
 "nbformat": 4,
 "nbformat_minor": 2
}
