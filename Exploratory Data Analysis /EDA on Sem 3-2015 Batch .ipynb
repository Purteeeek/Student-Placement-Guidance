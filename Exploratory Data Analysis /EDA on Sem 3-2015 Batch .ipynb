{
 "cells": [
  {
   "cell_type": "code",
   "execution_count": null,
   "metadata": {
    "collapsed": true
   },
   "outputs": [],
   "source": [
    "# Data Analysis and Wrangling  \n",
    "import numpy as np \n",
    "import pandas as pd \n",
    "import glob\n",
    "\n",
    "# Visualization \n",
    "import seaborn as sns \n",
    "import matplotlib.pyplot as plt \n",
    "%matplotlib inline \n"
   ]
  },
  {
   "cell_type": "code",
   "execution_count": null,
   "metadata": {
    "collapsed": true
   },
   "outputs": [],
   "source": [
    "path1 = \"/Users/prashant/Downloads/Student-Placement-Guidance/Exploratory Data Analysis/Sem3Dec12.xlsx\"\n",
    "path2 = \"/Users/prashant/Downloads/Student-Placement-Guidance/Exploratory Data Analysis/2015.xlsx\""
   ]
  },
  {
   "cell_type": "code",
   "execution_count": null,
   "metadata": {},
   "outputs": [],
   "source": [
    "sem_3_2015_df = pd.read_excel(path1)\n",
    "results = pd.read_excel(path2)\n",
    "results.head()"
   ]
  },
  {
   "cell_type": "code",
   "execution_count": null,
   "metadata": {
    "collapsed": true
   },
   "outputs": [],
   "source": [
    "sem_3_2015_df.index = sem_3_2015_df['Seat Number']\n",
    "#sem_3_2015_df.head()"
   ]
  },
  {
   "cell_type": "code",
   "execution_count": null,
   "metadata": {},
   "outputs": [],
   "source": [
    "# Removing all unecessary columns \n",
    "sem_3_2015_df.drop(sem_3_2015_df.iloc[:,2:17], axis=1, inplace=True)\n",
    "sem_3_2015_df.head()"
   ]
  },
  {
   "cell_type": "code",
   "execution_count": null,
   "metadata": {},
   "outputs": [],
   "source": [
    "# Merge two excel sheets with NAME as a common column\n",
    "sem_3_2015_merge = pd.merge(sem_3_2015_df, results, how='left')\n",
    "sem_3_2015_merge.head(10)"
   ]
  },
  {
   "cell_type": "code",
   "execution_count": null,
   "metadata": {},
   "outputs": [],
   "source": [
    "# Replacing placement with 0/1 \n",
    "\n",
    "title_mapping = {'FAIL':0, 'ABSENT':0, 'PASS':1}\n",
    "#for dataset in sem_3_2015_merge: \n",
    "    #dataset['Remarks'] = dataset['Remarks'].map(title_mapping)\n",
    "sem_3_2015_merge['Company'].loc[~sem_3_2015_merge['Company'].isnull()] = 1\n",
    "sem_3_2015_merge['Company'].loc[sem_3_2015_merge['Company'].isnull()] = 0\n",
    "\n",
    "sem_3_2015_merge"
   ]
  },
  {
   "cell_type": "code",
   "execution_count": null,
   "metadata": {},
   "outputs": [],
   "source": [
    "g = sns.FacetGrid(sem_3_2015_merge, col='Remarks')\n",
    "g.map(plt.hist, 'Company', bins=5)"
   ]
  },
  {
   "cell_type": "markdown",
   "metadata": {
    "collapsed": true
   },
   "source": [
    "A simple histogram which correlates Remarks with placement of a student. From the graph we can conclude that **unplaced student contains high percentage of FAIL students**. This validates our assumption that failing of a student in certain exam has direct impact on his placement. "
   ]
  },
  {
   "cell_type": "code",
   "execution_count": null,
   "metadata": {},
   "outputs": [],
   "source": [
    "g = sns.FacetGrid(sem_3_2015_merge, col='Remarks')\n",
    "g.map(plt.hist, 'Total', bins = 20)"
   ]
  },
  {
   "cell_type": "code",
   "execution_count": null,
   "metadata": {
    "collapsed": true
   },
   "outputs": [],
   "source": []
  }
 ],
 "metadata": {
  "kernelspec": {
   "display_name": "Python 2",
   "language": "python",
   "name": "python2"
  },
  "language_info": {
   "codemirror_mode": {
    "name": "ipython",
    "version": 2
   },
   "file_extension": ".py",
   "mimetype": "text/x-python",
   "name": "python",
   "nbconvert_exporter": "python",
   "pygments_lexer": "ipython2",
   "version": "2.7.13"
  }
 },
 "nbformat": 4,
 "nbformat_minor": 2
}
